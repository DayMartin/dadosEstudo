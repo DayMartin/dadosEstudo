{
 "cells": [
  {
   "cell_type": "markdown",
   "metadata": {},
   "source": [
    "## Trabalhando com herança de classe"
   ]
  },
  {
   "cell_type": "markdown",
   "metadata": {},
   "source": [
    "##### A subClasse herda TUDO que tem na Classe Mãe"
   ]
  },
  {
   "cell_type": "markdown",
   "metadata": {},
   "source": [
    "Se eu criar um método na classe mãe, eu posso reutilizar quando eu criar um objeto baseado na classe filha"
   ]
  },
  {
   "cell_type": "code",
   "execution_count": 145,
   "metadata": {},
   "outputs": [],
   "source": [
    "# Classe Mãe ou Super-Classe\n",
    "\n",
    "class Animal():\n",
    "\n",
    "    def __init__(self):\n",
    "        print('Animal criado')\n",
    "\n",
    "    def imprimir(self, ani):\n",
    "        print('Este é o animal:', ani)\n",
    "\n",
    "    def comer(self):\n",
    "        print('Hora de comer')\n",
    "\n",
    "    def som(self, som):\n",
    "        print(som)\n",
    "    \n",
    "    # Este método só existe na classe mãe\n",
    "    def teste(self):\n",
    "        print('Testando método que só existe na classe mãe')"
   ]
  },
  {
   "cell_type": "code",
   "execution_count": 146,
   "metadata": {},
   "outputs": [],
   "source": [
    "## SubClasse ou Classe filha\n",
    "\n",
    "## Vai herdar da classe mãe \n",
    "class Cachorro(Animal):\n",
    "\n",
    "    # O construtor da classe filha vai herdar o construtor da classe mãe\n",
    "    def __init__(self):\n",
    "        Animal.__init__(self)\n",
    "\n",
    "    def comer(self, hora = '14:00'):\n",
    "        print(hora)\n",
    "        Animal.comer(self)\n",
    "\n",
    "    def som(self):\n",
    "        Animal.som(self, 'auau')\n",
    "\n",
    "    def imprimir(self):\n",
    "        Animal.imprimir(self, 'Cachorro')  \n",
    "        \n"
   ]
  },
  {
   "cell_type": "code",
   "execution_count": 147,
   "metadata": {},
   "outputs": [
    {
     "name": "stdout",
     "output_type": "stream",
     "text": [
      "Animal criado\n"
     ]
    }
   ],
   "source": [
    "# Dessa forma, quando eu crio um objeto, uma instancia da classe Cachorro(), \n",
    "# Ele chama a hierarquia\n",
    "Cachorro1 = Cachorro()"
   ]
  },
  {
   "cell_type": "code",
   "execution_count": 91,
   "metadata": {},
   "outputs": [
    {
     "name": "stdout",
     "output_type": "stream",
     "text": [
      "14:00\n",
      "Hora de comer\n"
     ]
    }
   ],
   "source": [
    "Cachorro1.comer()"
   ]
  },
  {
   "cell_type": "code",
   "execution_count": 125,
   "metadata": {},
   "outputs": [
    {
     "name": "stdout",
     "output_type": "stream",
     "text": [
      "auau\n"
     ]
    }
   ],
   "source": [
    "Cachorro1.som()"
   ]
  },
  {
   "cell_type": "code",
   "execution_count": 124,
   "metadata": {},
   "outputs": [
    {
     "name": "stdout",
     "output_type": "stream",
     "text": [
      "Este é o animal: Cachorro\n"
     ]
    }
   ],
   "source": [
    "Cachorro1.imprimir()"
   ]
  },
  {
   "cell_type": "code",
   "execution_count": 148,
   "metadata": {},
   "outputs": [
    {
     "name": "stdout",
     "output_type": "stream",
     "text": [
      "Testando método que só existe na classe mãe\n"
     ]
    }
   ],
   "source": [
    "# Chamando o método que só existe na classe mãe\n",
    "Cachorro1.teste()"
   ]
  },
  {
   "cell_type": "markdown",
   "metadata": {},
   "source": [
    "##### Criando outra instancia Gato baseado na mãe Animal"
   ]
  },
  {
   "cell_type": "code",
   "execution_count": 149,
   "metadata": {},
   "outputs": [],
   "source": [
    "class gato(Animal):\n",
    "\n",
    "    def __init__(self):\n",
    "        Animal.__init__(self)\n",
    "\n",
    "    def comer(self, hora = '15:00'):\n",
    "        Animal.comer(self)\n",
    "        print(hora)\n",
    "\n",
    "    def imprimir(self):\n",
    "        Animal.imprimir(self, 'Gato')\n",
    "\n",
    "    def som(self):\n",
    "        Animal.som(self, 'Miau!')\n",
    "\n",
    "    def getGato(self):\n",
    "        self.imprimir()\n",
    "        self.comer()\n",
    "        print('O som que emite é:')\n",
    "        self.som()\n"
   ]
  },
  {
   "cell_type": "code",
   "execution_count": 150,
   "metadata": {},
   "outputs": [
    {
     "name": "stdout",
     "output_type": "stream",
     "text": [
      "Animal criado\n"
     ]
    }
   ],
   "source": [
    "cat = gato()"
   ]
  },
  {
   "cell_type": "code",
   "execution_count": 144,
   "metadata": {},
   "outputs": [
    {
     "name": "stdout",
     "output_type": "stream",
     "text": [
      "Este é o animal: Gato\n",
      "Hora de comer\n",
      "15:00\n",
      "O som que emite é:\n",
      "Miau!\n"
     ]
    }
   ],
   "source": [
    "cat.getGato()"
   ]
  },
  {
   "cell_type": "code",
   "execution_count": 151,
   "metadata": {},
   "outputs": [
    {
     "name": "stdout",
     "output_type": "stream",
     "text": [
      "Testando método que só existe na classe mãe\n"
     ]
    }
   ],
   "source": [
    "# Chamando o método que só existe na classe mãe\n",
    "cat.teste()"
   ]
  },
  {
   "cell_type": "code",
   "execution_count": 128,
   "metadata": {},
   "outputs": [
    {
     "name": "stdout",
     "output_type": "stream",
     "text": [
      "Hora de comer\n",
      "15:00\n"
     ]
    }
   ],
   "source": [
    "cat.comer()"
   ]
  },
  {
   "cell_type": "code",
   "execution_count": 137,
   "metadata": {},
   "outputs": [
    {
     "name": "stdout",
     "output_type": "stream",
     "text": [
      "Este é o animal: Gato\n"
     ]
    }
   ],
   "source": [
    "cat.imprimir()"
   ]
  },
  {
   "cell_type": "code",
   "execution_count": 138,
   "metadata": {},
   "outputs": [
    {
     "name": "stdout",
     "output_type": "stream",
     "text": [
      "Miau!\n"
     ]
    }
   ],
   "source": [
    "cat.som()"
   ]
  }
 ],
 "metadata": {
  "kernelspec": {
   "display_name": "Python 3",
   "language": "python",
   "name": "python3"
  },
  "language_info": {
   "codemirror_mode": {
    "name": "ipython",
    "version": 3
   },
   "file_extension": ".py",
   "mimetype": "text/x-python",
   "name": "python",
   "nbconvert_exporter": "python",
   "pygments_lexer": "ipython3",
   "version": "3.12.0"
  }
 },
 "nbformat": 4,
 "nbformat_minor": 2
}

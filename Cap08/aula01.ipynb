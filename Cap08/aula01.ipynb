{
 "cells": [
  {
   "cell_type": "markdown",
   "metadata": {},
   "source": [
    "### POO"
   ]
  },
  {
   "cell_type": "markdown",
   "metadata": {},
   "source": [
    "Programação orientada a objetos. Entidades que possuem características ( atributos ) e comportamentos ( métodos )"
   ]
  },
  {
   "cell_type": "markdown",
   "metadata": {},
   "source": [
    "### Classes"
   ]
  },
  {
   "cell_type": "markdown",
   "metadata": {},
   "source": [
    "É uma estrutura que descreve um objeto, especificando o comportamento e características que o objeto deve ter. Uma classe é uma espécie de modelo que define as características que o objeto deve possuir"
   ]
  },
  {
   "cell_type": "markdown",
   "metadata": {},
   "source": [
    "As classes são utilizadas para criar objetos que são instâncias da classe. Cada objeto criado a partir dessa classe terá os mesmos comportamentos e atributos "
   ]
  },
  {
   "cell_type": "markdown",
   "metadata": {},
   "source": [
    "o Placeholder %s marca um lugar, o placeholder %d também faz isso porém para um valor númerico( dicimal )"
   ]
  },
  {
   "cell_type": "code",
   "execution_count": 15,
   "metadata": {},
   "outputs": [],
   "source": [
    "## Criando uma classe \n",
    "\n",
    "class Livro():\n",
    "\n",
    "    ### Criando um método ( uma função dentro de uma class se chama método )\n",
    "    ### Vamos criar um método CONSTRUTOR que é utilizado para iniciar a class\n",
    "    ### \"self\" é uma referência a cada atributo da própria classe\n",
    "    def __init__(self):\n",
    "\n",
    "        # Atributos são propriedade\n",
    "        self.titulo = 'Ciencia para todos'\n",
    "        self.isbn = 2938578\n",
    "        print('Construtor chamado para criar um objeto desta classe')\n",
    "\n",
    "    # Métodos são funções que executam ações nos objetos da classe\n",
    "    def imprimir(self):\n",
    "        print('Foi criado um livro com o título %s com o ISBN %d' %(self.titulo, self.isbn) )"
   ]
  },
  {
   "cell_type": "code",
   "execution_count": 9,
   "metadata": {},
   "outputs": [
    {
     "data": {
      "text/plain": [
       "<__main__.Livro at 0x7f2568f10230>"
      ]
     },
     "execution_count": 9,
     "metadata": {},
     "output_type": "execute_result"
    }
   ],
   "source": [
    "Livro()"
   ]
  },
  {
   "cell_type": "code",
   "execution_count": 16,
   "metadata": {},
   "outputs": [
    {
     "name": "stdout",
     "output_type": "stream",
     "text": [
      "Construtor chamado para criar um objeto desta classe\n"
     ]
    }
   ],
   "source": [
    "## Criando uma instância da classe Livro\n",
    "\n",
    "Livro1 = Livro()"
   ]
  },
  {
   "cell_type": "code",
   "execution_count": 11,
   "metadata": {},
   "outputs": [
    {
     "data": {
      "text/plain": [
       "__main__.Livro"
      ]
     },
     "execution_count": 11,
     "metadata": {},
     "output_type": "execute_result"
    }
   ],
   "source": [
    "# O objeto do Livro1 é do tipo Livro\n",
    "type(Livro1)"
   ]
  },
  {
   "cell_type": "code",
   "execution_count": 12,
   "metadata": {},
   "outputs": [
    {
     "data": {
      "text/plain": [
       "'Ciencia para todos'"
      ]
     },
     "execution_count": 12,
     "metadata": {},
     "output_type": "execute_result"
    }
   ],
   "source": [
    "# Atributo do objeto Livro1\n",
    "Livro1.titulo"
   ]
  },
  {
   "cell_type": "code",
   "execution_count": 13,
   "metadata": {},
   "outputs": [
    {
     "name": "stdout",
     "output_type": "stream",
     "text": [
      "Foi criado um livro com o título Ciencia para todos com o ISBN 2938578\n"
     ]
    }
   ],
   "source": [
    "# Método do objeto livro1\n",
    "Livro1.imprimir()"
   ]
  },
  {
   "cell_type": "markdown",
   "metadata": {},
   "source": [
    "### Criando uma CLASSE varíavel"
   ]
  },
  {
   "cell_type": "code",
   "execution_count": 31,
   "metadata": {},
   "outputs": [],
   "source": [
    "class Livros():\n",
    "\n",
    "    # passo os parametros no construtor\n",
    "    def __init__(self, titulo, isnb) :\n",
    "        \n",
    "        self.titulo = titulo\n",
    "        self.isnb = isnb\n",
    "        print('Construtor chamado para criar um objeto da classe \"LIVROS\" ')\n",
    "\n",
    "\n",
    "    # Se eu criar um método com self.titulo esse método vai se basear no valor inserido na criação do objeto\n",
    "    def imprimirBASEADO(self):\n",
    "        print('Aqui está o Livro com o título: %s e o ISNB: %d' %(self.titulo, self.isnb))\n",
    "\n",
    "    # Se eu criar um método sem o self, somente com o valor do parametro\n",
    "    # EU vou precisar incluir o valor do parametro ao chamar esse método pois ele criou apenas um modelo \n",
    "    def imprimirVariavel(self, titulo, isnb):\n",
    "        print('Método você precisa adicionar. Titulo: %s e o ISNB: %d' %(titulo, isnb))"
   ]
  },
  {
   "cell_type": "code",
   "execution_count": 32,
   "metadata": {},
   "outputs": [
    {
     "name": "stdout",
     "output_type": "stream",
     "text": [
      "Construtor chamado para criar um objeto da classe \"LIVROS\" \n"
     ]
    }
   ],
   "source": [
    "Livro2 = Livros('Estou aprendendo Objetos', 23419384)"
   ]
  },
  {
   "cell_type": "code",
   "execution_count": 33,
   "metadata": {},
   "outputs": [
    {
     "data": {
      "text/plain": [
       "'Estou aprendendo Objetos'"
      ]
     },
     "execution_count": 33,
     "metadata": {},
     "output_type": "execute_result"
    }
   ],
   "source": [
    "Livro2.titulo"
   ]
  },
  {
   "cell_type": "code",
   "execution_count": 34,
   "metadata": {},
   "outputs": [
    {
     "data": {
      "text/plain": [
       "23419384"
      ]
     },
     "execution_count": 34,
     "metadata": {},
     "output_type": "execute_result"
    }
   ],
   "source": [
    "Livro2.isnb"
   ]
  },
  {
   "cell_type": "code",
   "execution_count": 35,
   "metadata": {},
   "outputs": [
    {
     "name": "stdout",
     "output_type": "stream",
     "text": [
      "Aqui está o Livro com o título: Estou aprendendo Objetos e o ISNB: 23419384\n"
     ]
    }
   ],
   "source": [
    "# Chamar o método para imprimir o valor definedo com self.\n",
    "Livro2.imprimirBASEADO()"
   ]
  },
  {
   "cell_type": "code",
   "execution_count": 38,
   "metadata": {},
   "outputs": [
    {
     "name": "stdout",
     "output_type": "stream",
     "text": [
      "Método você precisa adicionar. Titulo: Abracadaba e o ISNB: 234455\n"
     ]
    }
   ],
   "source": [
    "# chamar o método para imprmir o valor que não está definido\n",
    "Livro2.imprimirVariavel('Abracadaba', 234455)"
   ]
  },
  {
   "cell_type": "markdown",
   "metadata": {},
   "source": [
    "### Criando vários objetos baseado no modelo da classe"
   ]
  },
  {
   "cell_type": "code",
   "execution_count": 39,
   "metadata": {},
   "outputs": [
    {
     "name": "stdout",
     "output_type": "stream",
     "text": [
      "Construtor chamado para criar um objeto da classe \"LIVROS\" \n"
     ]
    }
   ],
   "source": [
    "Livro3 = Livros('Livro 3 em andamento', 384918249)"
   ]
  },
  {
   "cell_type": "code",
   "execution_count": 40,
   "metadata": {},
   "outputs": [
    {
     "name": "stdout",
     "output_type": "stream",
     "text": [
      "Construtor chamado para criar um objeto da classe \"LIVROS\" \n"
     ]
    }
   ],
   "source": [
    "Livro4 = Livros('Eu nasci a 10 mil anos atrás', 983586524)"
   ]
  },
  {
   "cell_type": "code",
   "execution_count": 45,
   "metadata": {},
   "outputs": [
    {
     "data": {
      "text/plain": [
       "__main__.Livros"
      ]
     },
     "execution_count": 45,
     "metadata": {},
     "output_type": "execute_result"
    }
   ],
   "source": [
    "type(Livro4)"
   ]
  },
  {
   "cell_type": "markdown",
   "metadata": {},
   "source": [
    "#### também é possível passar os valores citando o atributo ( até o momento é a mesma coisa)\n",
    "Deve ser utilizado para não se perder, ou definir de fato"
   ]
  },
  {
   "cell_type": "code",
   "execution_count": 44,
   "metadata": {},
   "outputs": [
    {
     "name": "stdout",
     "output_type": "stream",
     "text": [
      "Construtor chamado para criar um objeto da classe \"LIVROS\" \n"
     ]
    }
   ],
   "source": [
    "Livro5 = Livros(titulo='Este aqui é teste', isnb=9847624)"
   ]
  },
  {
   "cell_type": "code",
   "execution_count": 46,
   "metadata": {},
   "outputs": [
    {
     "data": {
      "text/plain": [
       "__main__.Livros"
      ]
     },
     "execution_count": 46,
     "metadata": {},
     "output_type": "execute_result"
    }
   ],
   "source": [
    "type(Livro5)"
   ]
  },
  {
   "cell_type": "markdown",
   "metadata": {},
   "source": [
    "Validando os objetos criados"
   ]
  },
  {
   "cell_type": "code",
   "execution_count": 41,
   "metadata": {},
   "outputs": [
    {
     "name": "stdout",
     "output_type": "stream",
     "text": [
      "Aqui está o Livro com o título: Livro 3 em andamento e o ISNB: 384918249\n"
     ]
    }
   ],
   "source": [
    "Livro3.imprimirBASEADO()"
   ]
  },
  {
   "cell_type": "code",
   "execution_count": 42,
   "metadata": {},
   "outputs": [
    {
     "name": "stdout",
     "output_type": "stream",
     "text": [
      "Aqui está o Livro com o título: Eu nasci a 10 mil anos atrás e o ISNB: 983586524\n"
     ]
    }
   ],
   "source": [
    "Livro4.imprimirBASEADO()"
   ]
  },
  {
   "cell_type": "code",
   "execution_count": 47,
   "metadata": {},
   "outputs": [
    {
     "name": "stdout",
     "output_type": "stream",
     "text": [
      "Aqui está o Livro com o título: Este aqui é teste e o ISNB: 9847624\n"
     ]
    }
   ],
   "source": [
    "Livro5.imprimirBASEADO()"
   ]
  },
  {
   "cell_type": "code",
   "execution_count": 48,
   "metadata": {},
   "outputs": [
    {
     "data": {
      "text/plain": [
       "'Este aqui é teste'"
      ]
     },
     "execution_count": 48,
     "metadata": {},
     "output_type": "execute_result"
    }
   ],
   "source": [
    "Livro5.titulo"
   ]
  }
 ],
 "metadata": {
  "kernelspec": {
   "display_name": "Python 3",
   "language": "python",
   "name": "python3"
  },
  "language_info": {
   "codemirror_mode": {
    "name": "ipython",
    "version": 3
   },
   "file_extension": ".py",
   "mimetype": "text/x-python",
   "name": "python",
   "nbconvert_exporter": "python",
   "pygments_lexer": "ipython3",
   "version": "3.12.0"
  }
 },
 "nbformat": 4,
 "nbformat_minor": 2
}

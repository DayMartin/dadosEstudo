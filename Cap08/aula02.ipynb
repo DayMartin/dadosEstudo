{
 "cells": [
  {
   "cell_type": "markdown",
   "metadata": {},
   "source": [
    "#### Tudo é objeto em Python"
   ]
  },
  {
   "cell_type": "code",
   "execution_count": 2,
   "metadata": {},
   "outputs": [
    {
     "name": "stdout",
     "output_type": "stream",
     "text": [
      "<class 'int'>\n",
      "<class 'str'>\n",
      "<class 'float'>\n",
      "<class 'list'>\n",
      "<class 'tuple'>\n",
      "<class 'dict'>\n"
     ]
    }
   ],
   "source": [
    "print(type(10))\n",
    "print(type('a'))\n",
    "print(type(10.0))\n",
    "print(type([]))\n",
    "print(type(()))\n",
    "print(type({}))"
   ]
  },
  {
   "cell_type": "code",
   "execution_count": 13,
   "metadata": {},
   "outputs": [],
   "source": [
    "## Criando a Class Aluno\n",
    "\n",
    "class Aluno():\n",
    "\n",
    "    def __init__(self, nome, matricula, nota) :\n",
    "        self.matricula = matricula\n",
    "        self.nome = nome\n",
    "        self.nota = nota\n",
    "        print('Criado instancia do inicializador')\n",
    "    \n",
    "    def imprimirDados(self):\n",
    "        print('Aluno: %s, Matricula %d, Nota %.1f' %(self.nome, self.matricula, self.nota)) \n",
    "\n",
    "        "
   ]
  },
  {
   "cell_type": "code",
   "execution_count": 14,
   "metadata": {},
   "outputs": [
    {
     "name": "stdout",
     "output_type": "stream",
     "text": [
      "Criado instancia do inicializador\n"
     ]
    }
   ],
   "source": [
    "Aluno1 = Aluno('Dinah', 484848, 9.9)"
   ]
  },
  {
   "cell_type": "code",
   "execution_count": 15,
   "metadata": {},
   "outputs": [
    {
     "name": "stdout",
     "output_type": "stream",
     "text": [
      "Aluno: Dinah, Matricula 484848, Nota 9.9\n"
     ]
    }
   ],
   "source": [
    "Aluno1.imprimirDados()"
   ]
  },
  {
   "cell_type": "code",
   "execution_count": 16,
   "metadata": {},
   "outputs": [
    {
     "data": {
      "text/plain": [
       "9.9"
      ]
     },
     "execution_count": 16,
     "metadata": {},
     "output_type": "execute_result"
    }
   ],
   "source": [
    "Aluno1.nota"
   ]
  },
  {
   "cell_type": "code",
   "execution_count": 17,
   "metadata": {},
   "outputs": [
    {
     "name": "stdout",
     "output_type": "stream",
     "text": [
      "O aluno Dinah Tirou a nota: 9.9\n"
     ]
    }
   ],
   "source": [
    "print('O aluno', Aluno1.nome, 'Tirou a nota:', Aluno1.nota)"
   ]
  },
  {
   "cell_type": "markdown",
   "metadata": {},
   "source": [
    "#### Nova classe 'Funcionarios'"
   ]
  },
  {
   "cell_type": "code",
   "execution_count": 19,
   "metadata": {},
   "outputs": [],
   "source": [
    "class funcionario():\n",
    "\n",
    "    def __init__(self, nome, salario):\n",
    "        self.nome = nome\n",
    "        self.salario = salario\n",
    "        print('Chamando o incializador')\n",
    "    \n",
    "    def imprimir(self):\n",
    "        print('O funcionário: %s possuí o salário: %s' %(self.nome, self.salario) )"
   ]
  },
  {
   "cell_type": "code",
   "execution_count": 28,
   "metadata": {},
   "outputs": [
    {
     "name": "stdout",
     "output_type": "stream",
     "text": [
      "Chamando o incializador\n"
     ]
    }
   ],
   "source": [
    "func1 = funcionario('Dinah', '10000')"
   ]
  },
  {
   "cell_type": "markdown",
   "metadata": {},
   "source": [
    "#### Manipulando dados do Objeto"
   ]
  },
  {
   "cell_type": "markdown",
   "metadata": {},
   "source": [
    "hasattr(objeto, atributo) ---> Utilizado para verificar se existe o atributo na objeto\n",
    "\n",
    "setattr(objeto, atributo, novoValor) ---> Utilizado para alterar o valor de um atributo na objeto\n",
    "\n",
    "getattr(objeto, atributo) ---> Utilizado para trazer o valor do atributo na objeto"
   ]
  },
  {
   "cell_type": "code",
   "execution_count": 29,
   "metadata": {},
   "outputs": [
    {
     "data": {
      "text/plain": [
       "True"
      ]
     },
     "execution_count": 29,
     "metadata": {},
     "output_type": "execute_result"
    }
   ],
   "source": [
    "### Utilizado para verificiar se um determinado atributo existe no objeto\n",
    "###  Dentro do objeto func1 existe o atributo 'nome'?\n",
    "hasattr(func1, 'nome')"
   ]
  },
  {
   "cell_type": "code",
   "execution_count": 30,
   "metadata": {},
   "outputs": [],
   "source": [
    "#### Alterar o dado do atributo\n",
    "setattr(func1, 'nome', 'Doria')"
   ]
  },
  {
   "cell_type": "code",
   "execution_count": 31,
   "metadata": {},
   "outputs": [
    {
     "data": {
      "text/plain": [
       "'Doria'"
      ]
     },
     "execution_count": 31,
     "metadata": {},
     "output_type": "execute_result"
    }
   ],
   "source": [
    "#### Visualizar o valor de func1 para confirmar a alteração \n",
    "\n",
    "getattr(func1, 'nome')"
   ]
  },
  {
   "cell_type": "code",
   "execution_count": 32,
   "metadata": {},
   "outputs": [],
   "source": [
    "### Deletar o atributo\n",
    "\n",
    "delattr(func1, 'nome')"
   ]
  },
  {
   "cell_type": "code",
   "execution_count": 33,
   "metadata": {},
   "outputs": [
    {
     "data": {
      "text/plain": [
       "False"
      ]
     },
     "execution_count": 33,
     "metadata": {},
     "output_type": "execute_result"
    }
   ],
   "source": [
    "### Verificar se existe o atributo 'nome' no objeto após a exclusão\n",
    "hasattr(func1, 'nome')"
   ]
  }
 ],
 "metadata": {
  "kernelspec": {
   "display_name": "Python 3",
   "language": "python",
   "name": "python3"
  },
  "language_info": {
   "codemirror_mode": {
    "name": "ipython",
    "version": 3
   },
   "file_extension": ".py",
   "mimetype": "text/x-python",
   "name": "python",
   "nbconvert_exporter": "python",
   "pygments_lexer": "ipython3",
   "version": "3.12.0"
  }
 },
 "nbformat": 4,
 "nbformat_minor": 2
}

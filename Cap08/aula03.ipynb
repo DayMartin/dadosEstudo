{
 "cells": [
  {
   "cell_type": "markdown",
   "metadata": {},
   "source": [
    "### Trabalhando com métodos de classes"
   ]
  },
  {
   "cell_type": "code",
   "execution_count": 1,
   "metadata": {},
   "outputs": [],
   "source": [
    "### Mais de Classe\n",
    "\n",
    "## OBS: Quando vou utilizar um método da classe, é necessário utilizar o ()\n",
    "## Circulo1.getRaio() ---> Estou chamando o método\n",
    "## Quando eu vou chamar somente um atributo, eu não preciso utilizar o ()\n",
    "## Circulo1.raio ---> Estou chamando o valor do atributo"
   ]
  },
  {
   "cell_type": "code",
   "execution_count": 8,
   "metadata": {},
   "outputs": [],
   "source": [
    "class Circulo():\n",
    "\n",
    "    # Definir uma variavel\n",
    "    pi = 3.14\n",
    "\n",
    "    ### No inicializador passo um valor default para raio caso não seja passado nenhum valor \n",
    "    def __init__(self, raio = 5):\n",
    "        self.raio = raio\n",
    "        print('Chamando o incializar para gerar um objeto')\n",
    "\n",
    "    ### função para calcular a àrea\n",
    "    def area(self):\n",
    "        return (self.raio + self.raio) * Circulo.pi\n",
    "    \n",
    "    ## Função para trocar o valor de raio\n",
    "    def setRaio(self, novoraio):\n",
    "        self.raio = novoraio\n",
    "\n",
    "    ## Função para imprimir o valor de raio \n",
    "    def getraio(self):\n",
    "        return self.raio"
   ]
  },
  {
   "cell_type": "code",
   "execution_count": 22,
   "metadata": {},
   "outputs": [
    {
     "name": "stdout",
     "output_type": "stream",
     "text": [
      "Chamando o incializar para gerar um objeto\n"
     ]
    }
   ],
   "source": [
    "# Criando um Objeto Circulo1, que é uma instancia da classe Circulo()\n",
    "## Se eu não passar nenhum parametro o raio será criado com o valor default\n",
    "Circulo1 = Circulo()"
   ]
  },
  {
   "cell_type": "code",
   "execution_count": 23,
   "metadata": {},
   "outputs": [
    {
     "data": {
      "text/plain": [
       "5"
      ]
     },
     "execution_count": 23,
     "metadata": {},
     "output_type": "execute_result"
    }
   ],
   "source": [
    "# O valor será o padrão definido na classe\n",
    "Circulo1.getraio()"
   ]
  },
  {
   "cell_type": "code",
   "execution_count": 18,
   "metadata": {},
   "outputs": [
    {
     "name": "stdout",
     "output_type": "stream",
     "text": [
      "Chamando o incializar para gerar um objeto\n"
     ]
    }
   ],
   "source": [
    "#Veja agora que irei passar o valor em um método, e ao raio será este valor, enão o valor default\n",
    "Circulo2 = Circulo(4)"
   ]
  },
  {
   "cell_type": "code",
   "execution_count": 19,
   "metadata": {},
   "outputs": [
    {
     "data": {
      "text/plain": [
       "4"
      ]
     },
     "execution_count": 19,
     "metadata": {},
     "output_type": "execute_result"
    }
   ],
   "source": [
    "## O resultado virá com o valor que eu defini na criação da instancia\n",
    "Circulo2.getraio()"
   ]
  },
  {
   "cell_type": "code",
   "execution_count": 12,
   "metadata": {},
   "outputs": [
    {
     "data": {
      "text/plain": [
       "31.400000000000002"
      ]
     },
     "execution_count": 12,
     "metadata": {},
     "output_type": "execute_result"
    }
   ],
   "source": [
    "Circulo1.area()"
   ]
  },
  {
   "cell_type": "code",
   "execution_count": 13,
   "metadata": {},
   "outputs": [],
   "source": [
    "Circulo1.setRaio(2)"
   ]
  },
  {
   "cell_type": "code",
   "execution_count": 15,
   "metadata": {},
   "outputs": [
    {
     "data": {
      "text/plain": [
       "2"
      ]
     },
     "execution_count": 15,
     "metadata": {},
     "output_type": "execute_result"
    }
   ],
   "source": [
    "Circulo1.getraio()"
   ]
  },
  {
   "cell_type": "code",
   "execution_count": 16,
   "metadata": {},
   "outputs": [
    {
     "data": {
      "text/plain": [
       "<bound method Circulo.area of <__main__.Circulo object at 0x7f5a34474c80>>"
      ]
     },
     "execution_count": 16,
     "metadata": {},
     "output_type": "execute_result"
    }
   ],
   "source": [
    "#### Exemplo se não colocar () na chamada ao método\n",
    "Circulo1.area"
   ]
  },
  {
   "cell_type": "code",
   "execution_count": 17,
   "metadata": {},
   "outputs": [
    {
     "data": {
      "text/plain": [
       "12.56"
      ]
     },
     "execution_count": 17,
     "metadata": {},
     "output_type": "execute_result"
    }
   ],
   "source": [
    "Circulo1.area()"
   ]
  }
 ],
 "metadata": {
  "kernelspec": {
   "display_name": "Python 3",
   "language": "python",
   "name": "python3"
  },
  "language_info": {
   "codemirror_mode": {
    "name": "ipython",
    "version": 3
   },
   "file_extension": ".py",
   "mimetype": "text/x-python",
   "name": "python",
   "nbconvert_exporter": "python",
   "pygments_lexer": "ipython3",
   "version": "3.12.0"
  }
 },
 "nbformat": 4,
 "nbformat_minor": 2
}

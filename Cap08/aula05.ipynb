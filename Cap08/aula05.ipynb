{
 "cells": [
  {
   "cell_type": "markdown",
   "metadata": {},
   "source": [
    "## Polimorfismo\n",
    "\n",
    "Poder criar uma Classe Mãe, poder utilizar tudo dessa mãe, e ainda poder escrever mais"
   ]
  },
  {
   "cell_type": "code",
   "execution_count": 1,
   "metadata": {},
   "outputs": [],
   "source": [
    "class Veiculo():\n",
    "\n",
    "    def __init__(self, marca, modelo):\n",
    "        self.marca = marca\n",
    "        self.modelo = modelo\n",
    "        print('Criado classe mãe')\n",
    "    \n",
    "    def acelerar(self):\n",
    "        pass\n",
    "\n",
    "    def freiar(self):\n",
    "        pass"
   ]
  },
  {
   "cell_type": "code",
   "execution_count": 47,
   "metadata": {},
   "outputs": [],
   "source": [
    "## Classe filha\n",
    "## Não tive a necessidade de criar o método construtor da filha, pois estou utilizando da mãe\n",
    "## Estou utilizando os métodos da mãe, mas tenho a capacidade de alterar o valor dos métodos\n",
    "## Veja que estou chamando os atributos da classe mãe. sem ter definido eles na classe filha\n",
    "\n",
    "class Carro(Veiculo):\n",
    "\n",
    "    def acelerar(self):\n",
    "        print('O carro está acelerando', self.marca, self.modelo)\n",
    "\n",
    "    def freiar(self):\n",
    "        print('O carro está freiando')\n",
    "\n",
    "    def imprimir(self):\n",
    "        self.acelerar()\n",
    "        self.freiar()"
   ]
  },
  {
   "cell_type": "code",
   "execution_count": 48,
   "metadata": {},
   "outputs": [],
   "source": [
    "## Classe filha\n",
    "## Não tive a necessidade de criar o método construtor da filha, pois estou utilizando da mãe\n",
    "## Estou utilizando os métodos da mãe, mas tenho a capacidade de alterar o valor dos métodos\n",
    "## E ainda posso criar novos métodos\n",
    "\n",
    "class Aviao(Veiculo):\n",
    "\n",
    "    def acelerar(self):\n",
    "        print('O Avião está acelerando')\n",
    "\n",
    "    def freiar(self):\n",
    "        print('O Avião está freiando')\n",
    "\n",
    "    def decolar(self):\n",
    "        print('O avião está decolando')\n",
    "    \n",
    "    def imprimir(self):\n",
    "        self.acelerar()\n",
    "        self.freiar()\n",
    "        self.decolar()"
   ]
  },
  {
   "cell_type": "code",
   "execution_count": 101,
   "metadata": {},
   "outputs": [
    {
     "name": "stdout",
     "output_type": "stream",
     "text": [
      "Criado classe mãe\n"
     ]
    }
   ],
   "source": [
    "### Criando uma instancia da classe Carro, utilizando os atributos da classe mãe\n",
    "\n",
    "Carrinho = Carro('Volks','4x4')"
   ]
  },
  {
   "cell_type": "code",
   "execution_count": 50,
   "metadata": {},
   "outputs": [
    {
     "name": "stdout",
     "output_type": "stream",
     "text": [
      "O carro está acelerando Volks 4x4\n"
     ]
    }
   ],
   "source": [
    "Carrinho.acelerar()"
   ]
  },
  {
   "cell_type": "code",
   "execution_count": 51,
   "metadata": {},
   "outputs": [
    {
     "name": "stdout",
     "output_type": "stream",
     "text": [
      "O carro está acelerando Volks 4x4\n",
      "O carro está freiando\n"
     ]
    }
   ],
   "source": [
    "Carrinho.imprimir()"
   ]
  },
  {
   "cell_type": "markdown",
   "metadata": {},
   "source": [
    "### Criar uma lista de OBJETOS baseados nas classes filhas, utilizando os atributos da classe Mãe\n",
    "\n",
    "Veja que criei uma lista, com as classes Carro e Aviao, que possuem os ATRIBUTOS da Super-Classe"
   ]
  },
  {
   "cell_type": "code",
   "execution_count": 52,
   "metadata": {},
   "outputs": [
    {
     "name": "stdout",
     "output_type": "stream",
     "text": [
      "Criado classe mãe\n",
      "Criado classe mãe\n"
     ]
    }
   ],
   "source": [
    "### Criando uma lista de objetos baseado na classe\n",
    "\n",
    "vlc = [Carro('Volkswagen', 'Amarok'), Aviao('Aks', '89Ah')]"
   ]
  },
  {
   "cell_type": "code",
   "execution_count": 58,
   "metadata": {},
   "outputs": [
    {
     "name": "stdout",
     "output_type": "stream",
     "text": [
      "O carro está acelerando Volkswagen Amarok\n",
      "O carro está freiando\n",
      "---\n",
      "O Avião está acelerando\n",
      "O Avião está freiando\n",
      "O avião está decolando\n",
      "---\n"
     ]
    }
   ],
   "source": [
    "## Para cada item dentro da lista vlc\n",
    "for item in vlc:\n",
    "\n",
    "    ## chame para cada item o método acelerar() e o metodo freiar()\n",
    "    item.acelerar()\n",
    "    item.freiar()\n",
    "\n",
    "    ## SE a instancia for Aviao, então chame para o item o método decolar()\n",
    "    ## isinstance é uma função buit-in do python\n",
    "\n",
    "    if isinstance(item, Aviao):\n",
    "        item.decolar()\n",
    "\n",
    "    print('---')"
   ]
  },
  {
   "cell_type": "markdown",
   "metadata": {},
   "source": [
    "##### Utilizando o imprimir()"
   ]
  },
  {
   "cell_type": "code",
   "execution_count": 59,
   "metadata": {},
   "outputs": [
    {
     "name": "stdout",
     "output_type": "stream",
     "text": [
      "O carro está acelerando Volkswagen Amarok\n",
      "O carro está freiando\n",
      "O Avião está acelerando\n",
      "O Avião está freiando\n",
      "O avião está decolando\n"
     ]
    }
   ],
   "source": [
    "for i in vlc:\n",
    "\n",
    "    i.imprimir()"
   ]
  },
  {
   "cell_type": "markdown",
   "metadata": {},
   "source": [
    "### Testando o além"
   ]
  },
  {
   "cell_type": "code",
   "execution_count": 93,
   "metadata": {},
   "outputs": [],
   "source": [
    "class Os():\n",
    "\n",
    "    def __init__(self, id, valor):\n",
    "        self.id = id\n",
    "        self.valor = int(valor)\n"
   ]
  },
  {
   "cell_type": "code",
   "execution_count": 98,
   "metadata": {},
   "outputs": [],
   "source": [
    "listas = [Os('HUs', 1), Os('Uhj', 2), Os('HKs', 5)]"
   ]
  },
  {
   "cell_type": "code",
   "execution_count": 99,
   "metadata": {},
   "outputs": [],
   "source": [
    "soma_valores = 0\n",
    "for item in listas:\n",
    "    soma_valores += item.valor"
   ]
  },
  {
   "cell_type": "code",
   "execution_count": 100,
   "metadata": {},
   "outputs": [
    {
     "name": "stdout",
     "output_type": "stream",
     "text": [
      "Soma dos valores: 8\n"
     ]
    }
   ],
   "source": [
    "print(\"Soma dos valores:\", soma_valores)\n"
   ]
  }
 ],
 "metadata": {
  "kernelspec": {
   "display_name": "Python 3",
   "language": "python",
   "name": "python3"
  },
  "language_info": {
   "codemirror_mode": {
    "name": "ipython",
    "version": 3
   },
   "file_extension": ".py",
   "mimetype": "text/x-python",
   "name": "python",
   "nbconvert_exporter": "python",
   "pygments_lexer": "ipython3",
   "version": "3.12.0"
  }
 },
 "nbformat": 4,
 "nbformat_minor": 2
}

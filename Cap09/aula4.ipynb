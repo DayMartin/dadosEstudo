{
 "cells": [
  {
   "cell_type": "markdown",
   "metadata": {},
   "source": [
    "#### Continuação da manipulação de matrizes com Numpy"
   ]
  },
  {
   "cell_type": "code",
   "execution_count": 1,
   "metadata": {},
   "outputs": [],
   "source": [
    "import numpy as np"
   ]
  },
  {
   "cell_type": "code",
   "execution_count": 19,
   "metadata": {},
   "outputs": [],
   "source": [
    "list1 = np.array([[4,33,5,3], [3,3,6,8], [3,5,10,5]])"
   ]
  },
  {
   "cell_type": "code",
   "execution_count": 20,
   "metadata": {},
   "outputs": [],
   "source": [
    "ma = np.matrix(list1)"
   ]
  },
  {
   "cell_type": "code",
   "execution_count": 21,
   "metadata": {},
   "outputs": [
    {
     "name": "stdout",
     "output_type": "stream",
     "text": [
      "[[ 4 33  5  3]\n",
      " [ 3  3  6  8]\n",
      " [ 3  5 10  5]]\n"
     ]
    }
   ],
   "source": [
    "print(ma)"
   ]
  },
  {
   "cell_type": "markdown",
   "metadata": {},
   "source": [
    "##### Indexação de matriz"
   ]
  },
  {
   "cell_type": "markdown",
   "metadata": {},
   "source": [
    "Na indexação não podemos esquecer que o primeiro argumento é o valor da linha,\n",
    "Já o segundo argumento é o valor da coluna"
   ]
  },
  {
   "cell_type": "markdown",
   "metadata": {},
   "source": [
    "Nunca podemos esquecer que os indíces começam com a posição 0"
   ]
  },
  {
   "cell_type": "code",
   "execution_count": 6,
   "metadata": {},
   "outputs": [
    {
     "name": "stdout",
     "output_type": "stream",
     "text": [
      "[[ 4 33  5  3]\n",
      " [ 3  3  6  8]\n",
      " [ 3  5 10  5]]\n"
     ]
    }
   ],
   "source": [
    "print(ma)"
   ]
  },
  {
   "cell_type": "code",
   "execution_count": 8,
   "metadata": {},
   "outputs": [
    {
     "name": "stdout",
     "output_type": "stream",
     "text": [
      "6\n"
     ]
    }
   ],
   "source": [
    "### Print o valor da lista 1, com o item no indice 2\n",
    "print(list1[1, 2])"
   ]
  },
  {
   "cell_type": "code",
   "execution_count": 12,
   "metadata": {},
   "outputs": [
    {
     "name": "stdout",
     "output_type": "stream",
     "text": [
      "[33  3  5]\n"
     ]
    }
   ],
   "source": [
    "# Mostrar da linha 0 até a 3 ( se eu colocar 2 lembre-se que o valor final é anulado então ele vai retornar\n",
    "# de 0 até a linha 1)\n",
    "# Então quero da linha 0 até a 3, me mostrando a coluna na posição 1 de cada linha\n",
    "print(list1[0:3,1])"
   ]
  },
  {
   "cell_type": "code",
   "execution_count": 13,
   "metadata": {},
   "outputs": [
    {
     "name": "stdout",
     "output_type": "stream",
     "text": [
      "[33  3  5]\n"
     ]
    }
   ],
   "source": [
    "#### Outra forma de mostrar o valor da última posição solicitada ao inves de colocar 3 \n",
    "### para mostrar a linha, 0,1,2 eu posso acrescentar +1\n",
    "### que traz o mesmo resultado do de cima\n",
    "### porém se eu não solber quantas linhas eu tenho em uma matriz, eu posso colocar +1 se eu quiser retornar\n",
    "### o último valor também\n",
    "print(list1[0:2+1,1])"
   ]
  },
  {
   "cell_type": "code",
   "execution_count": 15,
   "metadata": {},
   "outputs": [
    {
     "name": "stdout",
     "output_type": "stream",
     "text": [
      "[3 3 6 8]\n"
     ]
    }
   ],
   "source": [
    "print(list1[1,]) ### traz todas as colunas do indice 1"
   ]
  },
  {
   "cell_type": "markdown",
   "metadata": {},
   "source": [
    "##### Alterando um item na matriz"
   ]
  },
  {
   "cell_type": "code",
   "execution_count": 22,
   "metadata": {},
   "outputs": [
    {
     "name": "stdout",
     "output_type": "stream",
     "text": [
      "[[ 4 33  5  3]\n",
      " [ 3  3  6  8]\n",
      " [ 3  5 10  5]]\n"
     ]
    }
   ],
   "source": [
    "print(list1)"
   ]
  },
  {
   "cell_type": "code",
   "execution_count": 23,
   "metadata": {},
   "outputs": [],
   "source": [
    "### na lista 1, na coluna 2, altere o item para 48\n",
    "list1[1,2] = 48"
   ]
  },
  {
   "cell_type": "code",
   "execution_count": 24,
   "metadata": {},
   "outputs": [
    {
     "name": "stdout",
     "output_type": "stream",
     "text": [
      "[[ 4 33  5  3]\n",
      " [ 3  3 48  8]\n",
      " [ 3  5 10  5]]\n"
     ]
    }
   ],
   "source": [
    "print(list1)"
   ]
  },
  {
   "cell_type": "markdown",
   "metadata": {},
   "source": [
    "#### dtype para forçar o tipo do dado"
   ]
  },
  {
   "cell_type": "markdown",
   "metadata": {},
   "source": [
    "Por padrão o numpy tenta descobrir o tipo de dado que existe \n",
    "mas podemos definir isto para ele"
   ]
  },
  {
   "cell_type": "code",
   "execution_count": 29,
   "metadata": {},
   "outputs": [],
   "source": [
    "### Aqui nessas duas listas estamos deixando ele descobrir\n",
    "list2 = np.array([1,2,3])\n",
    "list3 = np.array([1,5,3])"
   ]
  },
  {
   "cell_type": "code",
   "execution_count": 34,
   "metadata": {},
   "outputs": [
    {
     "name": "stdout",
     "output_type": "stream",
     "text": [
      "[1 2 3] [1 5 3]\n"
     ]
    }
   ],
   "source": [
    "print(list2, list3)"
   ]
  },
  {
   "cell_type": "code",
   "execution_count": 30,
   "metadata": {},
   "outputs": [
    {
     "name": "stdout",
     "output_type": "stream",
     "text": [
      "int64 int64\n"
     ]
    }
   ],
   "source": [
    "#### visualizar o tipo\n",
    "print(list2.dtype, list3.dtype)"
   ]
  },
  {
   "cell_type": "code",
   "execution_count": 31,
   "metadata": {},
   "outputs": [],
   "source": [
    "### agora vamos definir o tipo\n",
    "list4 = np.array([2,4,5], dtype=float)"
   ]
  },
  {
   "cell_type": "code",
   "execution_count": 35,
   "metadata": {},
   "outputs": [
    {
     "name": "stdout",
     "output_type": "stream",
     "text": [
      "float64\n",
      "[2. 4. 5.]\n"
     ]
    }
   ],
   "source": [
    "### Após definir o tipo acima, imprimos o tipo da lista\n",
    "### Ele tornar float mesmo a lista sendo do tipo int, pois estou definido para ele\n",
    "### que quero valores float para essa lista\n",
    "### Veja que ele retorna com um \"ponto\" no fim pois se traga de um número float\n",
    "\n",
    "print(list4.dtype)\n",
    "print(list4)"
   ]
  },
  {
   "cell_type": "markdown",
   "metadata": {},
   "source": [
    "##### itemsize"
   ]
  },
  {
   "cell_type": "markdown",
   "metadata": {},
   "source": [
    "retornar o tamanho em bytes de cada elemento do array, em outras palavras é o tamanho que vai ser ocupado na memória do computador"
   ]
  },
  {
   "cell_type": "code",
   "execution_count": 37,
   "metadata": {},
   "outputs": [
    {
     "name": "stdout",
     "output_type": "stream",
     "text": [
      "[1 2 3]\n"
     ]
    }
   ],
   "source": [
    "print(list2)"
   ]
  },
  {
   "cell_type": "code",
   "execution_count": 39,
   "metadata": {},
   "outputs": [
    {
     "name": "stdout",
     "output_type": "stream",
     "text": [
      "8\n"
     ]
    }
   ],
   "source": [
    "#### CADA ITEM VAI OCUPAR O VALOR DE 8 BYTES\n",
    "print(list2.itemsize)"
   ]
  },
  {
   "cell_type": "code",
   "execution_count": 41,
   "metadata": {},
   "outputs": [
    {
     "name": "stdout",
     "output_type": "stream",
     "text": [
      "24\n"
     ]
    }
   ],
   "source": [
    "### SE EU TENHO NA LISTA ACIMA 3 ITENS, CADA ITEM OCUPA 8 BYTES, \n",
    "### 8 bytes * 3 ( quantidade de itens )\n",
    "print(list2.nbytes)"
   ]
  },
  {
   "cell_type": "code",
   "execution_count": 42,
   "metadata": {},
   "outputs": [
    {
     "name": "stdout",
     "output_type": "stream",
     "text": [
      "1\n"
     ]
    }
   ],
   "source": [
    "### podemos verificar também o número de dimensões\n",
    "print(list2.ndim)"
   ]
  }
 ],
 "metadata": {
  "kernelspec": {
   "display_name": "Python 3",
   "language": "python",
   "name": "python3"
  },
  "language_info": {
   "codemirror_mode": {
    "name": "ipython",
    "version": 3
   },
   "file_extension": ".py",
   "mimetype": "text/x-python",
   "name": "python",
   "nbconvert_exporter": "python",
   "pygments_lexer": "ipython3",
   "version": "3.12.0"
  }
 },
 "nbformat": 4,
 "nbformat_minor": 2
}

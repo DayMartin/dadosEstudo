{
 "cells": [
  {
   "cell_type": "markdown",
   "metadata": {},
   "source": [
    "### Funções Numpy"
   ]
  },
  {
   "cell_type": "code",
   "execution_count": 1,
   "metadata": {},
   "outputs": [],
   "source": [
    "import numpy as np"
   ]
  },
  {
   "cell_type": "code",
   "execution_count": 2,
   "metadata": {},
   "outputs": [],
   "source": [
    "#### É o mesmo método de python puro o range() de criar uma lista\n",
    "#### os parametros são (start, stop, step)\n",
    "### O valor final do indice nao entra na contagem,porque é exclusivo\n",
    "lts2 = np.arange(0, 20, 2)"
   ]
  },
  {
   "cell_type": "code",
   "execution_count": 3,
   "metadata": {},
   "outputs": [
    {
     "name": "stdout",
     "output_type": "stream",
     "text": [
      "[ 0  2  4  6  8 10 12 14 16 18]\n"
     ]
    }
   ],
   "source": [
    "print(lts2)"
   ]
  },
  {
   "cell_type": "code",
   "execution_count": 4,
   "metadata": {},
   "outputs": [
    {
     "data": {
      "text/plain": [
       "(10,)"
      ]
     },
     "execution_count": 4,
     "metadata": {},
     "output_type": "execute_result"
    }
   ],
   "source": [
    "#### Visualizar o shape com o python puro\n",
    "lts2.shape"
   ]
  },
  {
   "cell_type": "code",
   "execution_count": 5,
   "metadata": {},
   "outputs": [
    {
     "data": {
      "text/plain": [
       "(10,)"
      ]
     },
     "execution_count": 5,
     "metadata": {},
     "output_type": "execute_result"
    }
   ],
   "source": [
    "#### VIsualizar o shape com o numpy\n",
    "np.shape(lts2)"
   ]
  },
  {
   "cell_type": "code",
   "execution_count": 6,
   "metadata": {},
   "outputs": [
    {
     "name": "stdout",
     "output_type": "stream",
     "text": [
      "int64\n"
     ]
    }
   ],
   "source": [
    "#### o tipo do dado\n",
    "print(lts2.dtype)"
   ]
  },
  {
   "cell_type": "code",
   "execution_count": 8,
   "metadata": {},
   "outputs": [
    {
     "name": "stdout",
     "output_type": "stream",
     "text": [
      "<class 'numpy.ndarray'>\n"
     ]
    }
   ],
   "source": [
    "### ou esse tipo\n",
    "print(type(lts2))"
   ]
  },
  {
   "cell_type": "markdown",
   "metadata": {},
   "source": [
    "##### Criar uma ARRAY preenchida com ZEROS\n"
   ]
  },
  {
   "cell_type": "code",
   "execution_count": 9,
   "metadata": {},
   "outputs": [],
   "source": [
    "list3 = np.zeros(10)"
   ]
  },
  {
   "cell_type": "code",
   "execution_count": 10,
   "metadata": {},
   "outputs": [
    {
     "name": "stdout",
     "output_type": "stream",
     "text": [
      "[0. 0. 0. 0. 0. 0. 0. 0. 0. 0.]\n"
     ]
    }
   ],
   "source": [
    "print(list3)"
   ]
  },
  {
   "cell_type": "markdown",
   "metadata": {},
   "source": [
    "##### Retornar uma matriz com 1 na posição DIAGONAL e o restante preenche com zeros"
   ]
  },
  {
   "cell_type": "code",
   "execution_count": 35,
   "metadata": {},
   "outputs": [],
   "source": [
    "### o 1º número é a quantidade de linhas\n",
    "#### o 2º número é a quantidade de itens por linha\n",
    "#### o 3º número muda a posição de inicio do primeiro número 1 e automaticamente toda a diagonal muda também\n",
    "list4 = np.eye(3, 4, 2)"
   ]
  },
  {
   "cell_type": "code",
   "execution_count": 36,
   "metadata": {},
   "outputs": [
    {
     "name": "stdout",
     "output_type": "stream",
     "text": [
      "[[0. 0. 1. 0.]\n",
      " [0. 0. 0. 1.]\n",
      " [0. 0. 0. 0.]]\n"
     ]
    }
   ],
   "source": [
    "print(list4)"
   ]
  },
  {
   "cell_type": "code",
   "execution_count": 44,
   "metadata": {},
   "outputs": [],
   "source": [
    "#### Também posso utilizar outros números para preencher essa diagonal\n",
    "#### Utilizando o método diag\n",
    "#### Vamos utilizar uma array para preencher essa array diagonal\n",
    "list5 = np.diag(np.array([1,2,3,4,5]))"
   ]
  },
  {
   "cell_type": "code",
   "execution_count": 45,
   "metadata": {},
   "outputs": [
    {
     "name": "stdout",
     "output_type": "stream",
     "text": [
      "[[1 0 0 0 0]\n",
      " [0 2 0 0 0]\n",
      " [0 0 3 0 0]\n",
      " [0 0 0 4 0]\n",
      " [0 0 0 0 5]]\n"
     ]
    }
   ],
   "source": [
    "print(list5)"
   ]
  },
  {
   "cell_type": "markdown",
   "metadata": {},
   "source": [
    "#### Linspace"
   ]
  },
  {
   "cell_type": "markdown",
   "metadata": {},
   "source": [
    "Utilizado para criar uma sequência de número igualmente espaçados dentro de um intervalo"
   ]
  },
  {
   "cell_type": "markdown",
   "metadata": {},
   "source": [
    "É utilizado para gráficos etc"
   ]
  },
  {
   "cell_type": "code",
   "execution_count": 49,
   "metadata": {},
   "outputs": [
    {
     "name": "stdout",
     "output_type": "stream",
     "text": [
      "[ 1.          1.18367347  1.36734694  1.55102041  1.73469388  1.91836735\n",
      "  2.10204082  2.28571429  2.46938776  2.65306122  2.83673469  3.02040816\n",
      "  3.20408163  3.3877551   3.57142857  3.75510204  3.93877551  4.12244898\n",
      "  4.30612245  4.48979592  4.67346939  4.85714286  5.04081633  5.2244898\n",
      "  5.40816327  5.59183673  5.7755102   5.95918367  6.14285714  6.32653061\n",
      "  6.51020408  6.69387755  6.87755102  7.06122449  7.24489796  7.42857143\n",
      "  7.6122449   7.79591837  7.97959184  8.16326531  8.34693878  8.53061224\n",
      "  8.71428571  8.89795918  9.08163265  9.26530612  9.44897959  9.63265306\n",
      "  9.81632653 10.        ]\n"
     ]
    }
   ],
   "source": [
    "print(np.linspace(1,10))"
   ]
  },
  {
   "cell_type": "markdown",
   "metadata": {},
   "source": [
    "##### logspace"
   ]
  },
  {
   "cell_type": "markdown",
   "metadata": {},
   "source": [
    "utilizado para criar uma sequência de números igualmente espaçados em escala logarítma"
   ]
  },
  {
   "cell_type": "code",
   "execution_count": 55,
   "metadata": {},
   "outputs": [
    {
     "name": "stdout",
     "output_type": "stream",
     "text": [
      "[ 1.25892541  1.31331029  1.37004456  1.42922973  1.49097166  1.5553808\n",
      "  1.62257239  1.69266662  1.76578887  1.84206997  1.92164637  2.00466042\n",
      "  2.09126064  2.18160194  2.27584593  2.3741612   2.47672365  2.58371673\n",
      "  2.69533186  2.8117687   2.93323554  3.05994969  3.19213781  3.33003639\n",
      "  3.47389211  3.62396232  3.78051548  3.94383164  4.11420298  4.29193426\n",
      "  4.47734343  4.67076218  4.87253651  5.08302738  5.30261134  5.5316812\n",
      "  5.77064675  6.01993548  6.27999335  6.55128557  6.83429746  7.12953531\n",
      "  7.43752728  7.75882432  8.09400122  8.44365757  8.80841888  9.18893768\n",
      "  9.58589468 10.        ]\n"
     ]
    }
   ],
   "source": [
    "print(np.logspace(0.1, 1))"
   ]
  },
  {
   "cell_type": "code",
   "execution_count": 52,
   "metadata": {},
   "outputs": [
    {
     "name": "stdout",
     "output_type": "stream",
     "text": [
      "[1.00000000e+00 1.59985872e+00 2.55954792e+00 4.09491506e+00\n",
      " 6.55128557e+00 1.04811313e+01 1.67683294e+01 2.68269580e+01\n",
      " 4.29193426e+01 6.86648845e+01 1.09854114e+02 1.75751062e+02\n",
      " 2.81176870e+02 4.49843267e+02 7.19685673e+02 1.15139540e+03\n",
      " 1.84206997e+03 2.94705170e+03 4.71486636e+03 7.54312006e+03\n",
      " 1.20679264e+04 1.93069773e+04 3.08884360e+04 4.94171336e+04\n",
      " 7.90604321e+04 1.26485522e+05 2.02358965e+05 3.23745754e+05\n",
      " 5.17947468e+05 8.28642773e+05 1.32571137e+06 2.12095089e+06\n",
      " 3.39322177e+06 5.42867544e+06 8.68511374e+06 1.38949549e+07\n",
      " 2.22299648e+07 3.55648031e+07 5.68986603e+07 9.10298178e+07\n",
      " 1.45634848e+08 2.32995181e+08 3.72759372e+08 5.96362332e+08\n",
      " 9.54095476e+08 1.52641797e+09 2.44205309e+09 3.90693994e+09\n",
      " 6.25055193e+09 1.00000000e+10]\n"
     ]
    }
   ],
   "source": [
    "print(np.logspace(0,10))"
   ]
  },
  {
   "cell_type": "code",
   "execution_count": 54,
   "metadata": {},
   "outputs": [
    {
     "name": "stdout",
     "output_type": "stream",
     "text": [
      "[1.00000000e+00 5.17947468e+00 2.68269580e+01 1.38949549e+02\n",
      " 7.19685673e+02 3.72759372e+03 1.93069773e+04 1.00000000e+05\n",
      " 5.17947468e+05 2.68269580e+06 1.38949549e+07 7.19685673e+07\n",
      " 3.72759372e+08 1.93069773e+09 1.00000000e+10]\n"
     ]
    }
   ],
   "source": [
    "print(np.logspace(0, 10, 15))"
   ]
  }
 ],
 "metadata": {
  "kernelspec": {
   "display_name": "Python 3",
   "language": "python",
   "name": "python3"
  },
  "language_info": {
   "codemirror_mode": {
    "name": "ipython",
    "version": 3
   },
   "file_extension": ".py",
   "mimetype": "text/x-python",
   "name": "python",
   "nbconvert_exporter": "python",
   "pygments_lexer": "ipython3",
   "version": "3.12.0"
  }
 },
 "nbformat": 4,
 "nbformat_minor": 2
}

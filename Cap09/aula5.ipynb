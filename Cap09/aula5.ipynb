{
 "cells": [
  {
   "cell_type": "markdown",
   "metadata": {},
   "source": [
    "#### Manipulando objetos de 3 e 4 dimensões"
   ]
  },
  {
   "cell_type": "markdown",
   "metadata": {},
   "source": [
    "### As dimensões não se não por linhas, colunas ou profundidades, \n",
    "### As dimensões se dão pelo nível das camadas de arrays\n",
    "[] ---> 1º dimensão <br>\n",
    "[[]] ---> 2º dimensão <br>\n",
    "[[[]]] ---> 3º dimensão <br>\n",
    "[[[[]]]] ---> 4º dimensão <br>\n",
    "<br>\n",
    "e assim por diante"
   ]
  },
  {
   "cell_type": "code",
   "execution_count": 1,
   "metadata": {},
   "outputs": [],
   "source": [
    "import numpy as np"
   ]
  },
  {
   "cell_type": "markdown",
   "metadata": {},
   "source": [
    "### Começando com um exemplo de 3 dimensões"
   ]
  },
  {
   "cell_type": "markdown",
   "metadata": {},
   "source": [
    "* Profundidade: Refere-se ao número de listas externas, ou seja, o número de matrizes ou \"camadas\" que temos. No exemplo fornecido, temos duas listas externas, então a profundidade é 2.\n",
    "\n",
    "* Linha: Refere-se ao número de listas dentro de cada matriz ou \"camada\". Cada uma dessas listas representa uma linha na matriz. No exemplo, dentro de cada lista externa, temos três listas internas, então o número de linhas é 3.\n",
    "\n",
    "* Coluna: Refere-se ao número de elementos em cada lista interna, que representam as colunas na matriz. No exemplo, cada lista interna tem quatro elementos, então o número de colunas é 4."
   ]
  },
  {
   "cell_type": "code",
   "execution_count": 6,
   "metadata": {},
   "outputs": [],
   "source": [
    "### Criamos uma lista de listas, que contém listas dentro\n",
    "array1 = np.array([\n",
    "   [\n",
    "       [1,2,3,4],\n",
    "       [3,4,5,6],\n",
    "       [3,4,6,2]\n",
    "   ],\n",
    "   [\n",
    "       [4,78,9,52],\n",
    "       [98,3,6,877],\n",
    "       [87,4,8,98]\n",
    "   ]\n",
    "])"
   ]
  },
  {
   "cell_type": "code",
   "execution_count": 7,
   "metadata": {},
   "outputs": [
    {
     "name": "stdout",
     "output_type": "stream",
     "text": [
      "[[[  1   2   3   4]\n",
      "  [  3   4   5   6]\n",
      "  [  3   4   6   2]]\n",
      "\n",
      " [[  4  78   9  52]\n",
      "  [ 98   3   6 877]\n",
      "  [ 87   4   8  98]]]\n"
     ]
    }
   ],
   "source": [
    "print(array1)"
   ]
  },
  {
   "cell_type": "code",
   "execution_count": 10,
   "metadata": {},
   "outputs": [
    {
     "name": "stdout",
     "output_type": "stream",
     "text": [
      "(2, 3, 4)\n"
     ]
    }
   ],
   "source": [
    "### O que temos neste objeto é:\n",
    "### 2 de profundidade\n",
    "### 3 Linhas\n",
    "### 4 colunas em cada linha\n",
    "print(array1.shape)\n"
   ]
  },
  {
   "cell_type": "code",
   "execution_count": 11,
   "metadata": {},
   "outputs": [
    {
     "name": "stdout",
     "output_type": "stream",
     "text": [
      "3\n"
     ]
    }
   ],
   "source": [
    "print(np.ndim(array1))"
   ]
  },
  {
   "cell_type": "markdown",
   "metadata": {},
   "source": [
    "#### Filtrar objeto de 3 dimensões"
   ]
  },
  {
   "cell_type": "code",
   "execution_count": 9,
   "metadata": {},
   "outputs": [
    {
     "name": "stdout",
     "output_type": "stream",
     "text": [
      "5\n"
     ]
    }
   ],
   "source": [
    "### 1º número é o elemento\n",
    "### 2º número é a linha\n",
    "### 3º é a coluna\n",
    "print(array1[0, 1, 2])"
   ]
  },
  {
   "cell_type": "markdown",
   "metadata": {},
   "source": [
    "#### Objeto de 4 dimensões"
   ]
  },
  {
   "cell_type": "code",
   "execution_count": 55,
   "metadata": {},
   "outputs": [],
   "source": [
    "array2 = np.array([\n",
    "    [\n",
    "        [\n",
    "            [2,3,4,5],\n",
    "            [4,52,4,2]\n",
    "        ], \n",
    "        [\n",
    "            [2,3,4,5],\n",
    "            [4,52,4,2]\n",
    "        ]\n",
    "    ],\n",
    "    [\n",
    "        [\n",
    "            [24,33,45,555],\n",
    "            [45,525,45,255]\n",
    "        ], \n",
    "        [\n",
    "            [22,22,42,52],\n",
    "            [42,522,422,22]\n",
    "        ]\n",
    "    ],\n",
    "])"
   ]
  },
  {
   "cell_type": "code",
   "execution_count": 56,
   "metadata": {},
   "outputs": [
    {
     "name": "stdout",
     "output_type": "stream",
     "text": [
      "4\n"
     ]
    }
   ],
   "source": [
    "print(np.ndim(array2))"
   ]
  },
  {
   "cell_type": "code",
   "execution_count": 57,
   "metadata": {},
   "outputs": [
    {
     "name": "stdout",
     "output_type": "stream",
     "text": [
      "422\n"
     ]
    }
   ],
   "source": [
    "print(array2[1, 1, 1, 2])"
   ]
  },
  {
   "cell_type": "markdown",
   "metadata": {},
   "source": [
    "### Objeto de 5 dimensões"
   ]
  },
  {
   "cell_type": "code",
   "execution_count": 58,
   "metadata": {},
   "outputs": [],
   "source": [
    "array3 = np.array(\n",
    "    [\n",
    "        [\n",
    "            [\n",
    "                [\n",
    "                    [2,3,4,5],\n",
    "                    [4,52,4,2]\n",
    "                ],\n",
    "                [\n",
    "                    [9,36,48,58],\n",
    "                    [47,59,46,99]\n",
    "                ],\n",
    "                [\n",
    "                    [22,31,41,51],\n",
    "                    [41,52,41,21]\n",
    "                ],\n",
    "            ]\n",
    "        ]\n",
    "    ]\n",
    ")"
   ]
  },
  {
   "cell_type": "code",
   "execution_count": 59,
   "metadata": {},
   "outputs": [
    {
     "name": "stdout",
     "output_type": "stream",
     "text": [
      "5\n"
     ]
    }
   ],
   "source": [
    "print(np.ndim(array3))"
   ]
  },
  {
   "cell_type": "code",
   "execution_count": 66,
   "metadata": {},
   "outputs": [
    {
     "name": "stdout",
     "output_type": "stream",
     "text": [
      "46\n"
     ]
    }
   ],
   "source": [
    "print(array3[0, 0, 1, 1, 2])"
   ]
  },
  {
   "cell_type": "markdown",
   "metadata": {},
   "source": [
    "### Então veja, eu só tenho objetos apartir do nível 3, do qual no 3º eu tenho 3 objetos, que posso escolher entre seus indíces, agora abaixo veja um exemplo preenchedo todas as 5 dimensões"
   ]
  },
  {
   "cell_type": "code",
   "execution_count": 81,
   "metadata": {},
   "outputs": [],
   "source": [
    "array4 = np.array(\n",
    "    [\n",
    "        [\n",
    "            [\n",
    "                [\n",
    "                    [2,3,4,5],\n",
    "                    [52,36,43,545]\n",
    "                ],\n",
    "                [\n",
    "                    [24,34,44,54],\n",
    "                    [2345,3434,4467,546]\n",
    "                ]\n",
    "            ],\n",
    "            [\n",
    "                [\n",
    "                    [2534,3555,45,5523],\n",
    "                    [2533,35345,4534,5563]\n",
    "                ],\n",
    "                [\n",
    "                    [2675,36563,4634,25634],\n",
    "                    [2634,3546,45266,7756]\n",
    "                ]\n",
    "            ]\n",
    "        ],\n",
    "        [\n",
    "            [\n",
    "                [\n",
    "                    [21347,3347,4757,5567],\n",
    "                    [2345,36737,487,556767]\n",
    "                ],\n",
    "                [\n",
    "                    [278,378,478,58],\n",
    "                    [27,35,64,58]\n",
    "                ]\n",
    "            ],\n",
    "            [\n",
    "                [\n",
    "                    [223,343,453,523],\n",
    "                    [254,346,477,5445]\n",
    "                ],\n",
    "                [\n",
    "                    [2234,353,4534,5234],\n",
    "                    [2456,334,444,523]\n",
    "                ]\n",
    "            ]\n",
    "        ],\n",
    "    ]\n",
    ")"
   ]
  },
  {
   "cell_type": "code",
   "execution_count": 88,
   "metadata": {},
   "outputs": [
    {
     "name": "stdout",
     "output_type": "stream",
     "text": [
      "(2, 2, 2, 2, 4)\n"
     ]
    }
   ],
   "source": [
    "print(array4.shape)"
   ]
  },
  {
   "cell_type": "code",
   "execution_count": 82,
   "metadata": {},
   "outputs": [
    {
     "name": "stdout",
     "output_type": "stream",
     "text": [
      "[[[[[     2      3      4      5]\n",
      "    [    52     36     43    545]]\n",
      "\n",
      "   [[    24     34     44     54]\n",
      "    [  2345   3434   4467    546]]]\n",
      "\n",
      "\n",
      "  [[[  2534   3555     45   5523]\n",
      "    [  2533  35345   4534   5563]]\n",
      "\n",
      "   [[  2675  36563   4634  25634]\n",
      "    [  2634   3546  45266   7756]]]]\n",
      "\n",
      "\n",
      "\n",
      " [[[[ 21347   3347   4757   5567]\n",
      "    [  2345  36737    487 556767]]\n",
      "\n",
      "   [[   278    378    478     58]\n",
      "    [    27     35     64     58]]]\n",
      "\n",
      "\n",
      "  [[[   223    343    453    523]\n",
      "    [   254    346    477   5445]]\n",
      "\n",
      "   [[  2234    353   4534   5234]\n",
      "    [  2456    334    444    523]]]]]\n"
     ]
    }
   ],
   "source": [
    "print(array4)"
   ]
  },
  {
   "cell_type": "code",
   "execution_count": 83,
   "metadata": {},
   "outputs": [
    {
     "name": "stdout",
     "output_type": "stream",
     "text": [
      "5\n"
     ]
    }
   ],
   "source": [
    "print(np.ndim(array4))"
   ]
  },
  {
   "cell_type": "markdown",
   "metadata": {},
   "source": [
    "#### Quanto mais eu fatio, mais fundo na dimensão eu vou\n",
    "#### Quando menos eu fatio, mais superficial vou na dimensão"
   ]
  },
  {
   "cell_type": "code",
   "execution_count": 91,
   "metadata": {},
   "outputs": [
    {
     "name": "stdout",
     "output_type": "stream",
     "text": [
      "444\n"
     ]
    }
   ],
   "source": [
    "#### Este resultado é o máximo que posso ir na dimensão, me trazendo exatamente\n",
    "#### o Item da última camada\n",
    "print(array4[1, 1, 1, 1, 2])"
   ]
  },
  {
   "cell_type": "code",
   "execution_count": 92,
   "metadata": {},
   "outputs": [
    {
     "name": "stdout",
     "output_type": "stream",
     "text": [
      "[2456  334  444  523]\n"
     ]
    }
   ],
   "source": [
    "#### aqui ele me traz a linha completa\n",
    "print(array4[1, 1, 1, 1])"
   ]
  },
  {
   "cell_type": "code",
   "execution_count": 93,
   "metadata": {},
   "outputs": [
    {
     "name": "stdout",
     "output_type": "stream",
     "text": [
      "[[2234  353 4534 5234]\n",
      " [2456  334  444  523]]\n"
     ]
    }
   ],
   "source": [
    "### E assim por diante\n",
    "print(array4[1, 1, 1])"
   ]
  },
  {
   "cell_type": "code",
   "execution_count": 94,
   "metadata": {},
   "outputs": [
    {
     "name": "stdout",
     "output_type": "stream",
     "text": [
      "[[[ 223  343  453  523]\n",
      "  [ 254  346  477 5445]]\n",
      "\n",
      " [[2234  353 4534 5234]\n",
      "  [2456  334  444  523]]]\n"
     ]
    }
   ],
   "source": [
    "### E assim por diante\n",
    "print(array4[1, 1])"
   ]
  },
  {
   "cell_type": "code",
   "execution_count": 95,
   "metadata": {},
   "outputs": [
    {
     "name": "stdout",
     "output_type": "stream",
     "text": [
      "[[[[ 21347   3347   4757   5567]\n",
      "   [  2345  36737    487 556767]]\n",
      "\n",
      "  [[   278    378    478     58]\n",
      "   [    27     35     64     58]]]\n",
      "\n",
      "\n",
      " [[[   223    343    453    523]\n",
      "   [   254    346    477   5445]]\n",
      "\n",
      "  [[  2234    353   4534   5234]\n",
      "   [  2456    334    444    523]]]]\n"
     ]
    }
   ],
   "source": [
    "### E assim por diante\n",
    "print(array4[1])"
   ]
  },
  {
   "cell_type": "code",
   "execution_count": 98,
   "metadata": {},
   "outputs": [
    {
     "name": "stdout",
     "output_type": "stream",
     "text": [
      "[[[[[     2      3      4      5]\n",
      "    [    52     36     43    545]]\n",
      "\n",
      "   [[    24     34     44     54]\n",
      "    [  2345   3434   4467    546]]]\n",
      "\n",
      "\n",
      "  [[[  2534   3555     45   5523]\n",
      "    [  2533  35345   4534   5563]]\n",
      "\n",
      "   [[  2675  36563   4634  25634]\n",
      "    [  2634   3546  45266   7756]]]]\n",
      "\n",
      "\n",
      "\n",
      " [[[[ 21347   3347   4757   5567]\n",
      "    [  2345  36737    487 556767]]\n",
      "\n",
      "   [[   278    378    478     58]\n",
      "    [    27     35     64     58]]]\n",
      "\n",
      "\n",
      "  [[[   223    343    453    523]\n",
      "    [   254    346    477   5445]]\n",
      "\n",
      "   [[  2234    353   4534   5234]\n",
      "    [  2456    334    444    523]]]]]\n"
     ]
    }
   ],
   "source": [
    "### Até eu mostrar a dimensão por inteiro, tendo uma visão geral dela\n",
    "print(array4)"
   ]
  }
 ],
 "metadata": {
  "kernelspec": {
   "display_name": "Python 3",
   "language": "python",
   "name": "python3"
  },
  "language_info": {
   "codemirror_mode": {
    "name": "ipython",
    "version": 3
   },
   "file_extension": ".py",
   "mimetype": "text/x-python",
   "name": "python",
   "nbconvert_exporter": "python",
   "pygments_lexer": "ipython3",
   "version": "3.12.0"
  }
 },
 "nbformat": 4,
 "nbformat_minor": 2
}

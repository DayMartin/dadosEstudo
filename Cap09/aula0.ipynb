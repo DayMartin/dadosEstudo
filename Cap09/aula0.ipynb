{
 "cells": [
  {
   "cell_type": "markdown",
   "metadata": {},
   "source": [
    "##### O que são dimensões?\n",
    "\n",
    "##### As dimensões não se não por linhas, colunas ou profundidades, \n",
    "##### As dimensões se dão pelo nível das camadas de arrays\n",
    "[] ---> 1º dimensão <br>\n",
    "[[]] ---> 2º dimensão <br>\n",
    "[[[]]] ---> 3º dimensão <br>\n",
    "[[[[]]]] ---> 4º dimensão <br>\n",
    "<br>\n",
    "e assim por diante"
   ]
  },
  {
   "cell_type": "markdown",
   "metadata": {},
   "source": [
    "1 dimensão (1D):\n",
    "        Representa uma sequência de elementos organizados em uma única linha.\n",
    "        Exemplo: Uma lista de valores ou um array unidimensional.\n",
    "        Em uma lista, você acessa os elementos usando um único índice.\n",
    "\n",
    "2 dimensões (2D):\n",
    "        Representa uma tabela de elementos organizados em linhas e colunas.\n",
    "        Exemplo: Uma matriz ou uma lista de listas onde todas as sublistas têm o mesmo comprimento.\n",
    "        Em uma matriz, você acessa os elementos usando dois índices, representando a linha e a coluna.\n",
    "\n",
    "3 dimensões (3D):\n",
    "        Representa uma coleção de matrizes organizadas em uma estrutura tridimensional.\n",
    "        Exemplo: Uma lista de listas de listas ou um array tridimensional.\n",
    "        Cada elemento pode ser acessado usando três índices, representando a profundidade, linha e coluna.\n",
    "\n",
    "4 ou mais dimensões (4D+):\n",
    "        Representa uma estrutura multidimensional com mais de três dimensões.\n",
    "        Geralmente usado em contextos mais complexos, como dados volumétricos, séries temporais multidimensionais ou problemas de alta dimensionalidade em aprendizado de máquina.\n",
    "        Cada dimensão adicional adiciona uma camada adicional de organização aos dados."
   ]
  },
  {
   "cell_type": "markdown",
   "metadata": {},
   "source": [
    "### Neste exemplo temos 3 dimensões\n",
    "\n",
    "Profundidade: Refere-se ao número de listas externas, ou seja, o número de matrizes ou \"camadas\" que temos. No exemplo fornecido, temos duas listas externas, então a profundidade é 2.\n",
    "\n",
    "Linha: Refere-se ao número de listas dentro de cada matriz ou \"camada\". Cada uma dessas listas representa uma linha na matriz. No exemplo, dentro de cada lista externa, temos três listas internas, então o número de linhas é 3.\n",
    "\n",
    "Coluna: Refere-se ao número de elementos em cada lista interna, que representam as colunas na matriz. No exemplo, cada lista interna tem quatro elementos, então o número de colunas é 4.\n",
    "\n",
    "[\n",
    "   [\n",
    "       [1,2,3,4],\n",
    "       [3,4,5,6],\n",
    "       [3,4,6,2]\n",
    "   ],\n",
    "   [\n",
    "       [4,78,9,52],\n",
    "       [98,3,6,877],\n",
    "       [87,4,8,98]\n",
    "   ]\n",
    "]"
   ]
  },
  {
   "cell_type": "code",
   "execution_count": null,
   "metadata": {},
   "outputs": [],
   "source": []
  }
 ],
 "metadata": {
  "kernelspec": {
   "display_name": "Python 3",
   "language": "python",
   "name": "python3"
  },
  "language_info": {
   "name": "python",
   "version": "3.12.0"
  }
 },
 "nbformat": 4,
 "nbformat_minor": 2
}

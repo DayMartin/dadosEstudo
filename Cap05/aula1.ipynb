{
 "cells": [
  {
   "cell_type": "markdown",
   "metadata": {},
   "source": [
    "#### Condicional if else elif\n"
   ]
  },
  {
   "cell_type": "code",
   "execution_count": 1,
   "metadata": {},
   "outputs": [
    {
     "name": "stdout",
     "output_type": "stream",
     "text": [
      "Isto mesmo\n"
     ]
    }
   ],
   "source": [
    "if 5 > 2:\n",
    "    print(\"Isto mesmo\")"
   ]
  },
  {
   "cell_type": "code",
   "execution_count": 2,
   "metadata": {},
   "outputs": [
    {
     "name": "stdout",
     "output_type": "stream",
     "text": [
      "5 não é menor que 2\n"
     ]
    }
   ],
   "source": [
    "if 5 < 2:\n",
    "    print(\"Será mesmo?\")\n",
    "else:\n",
    "    print('5 não é menor que 2')"
   ]
  },
  {
   "cell_type": "code",
   "execution_count": 7,
   "metadata": {},
   "outputs": [
    {
     "name": "stdout",
     "output_type": "stream",
     "text": [
      "Bem-vindo ao Segunda\n"
     ]
    }
   ],
   "source": [
    "dia = 'Segunda'\n",
    "hoje = 'Quarta'\n",
    "if dia == hoje:\n",
    "    print('voce ta certo?')\n",
    "else:\n",
    "    print('Bem-vindo ao ' + dia)"
   ]
  },
  {
   "cell_type": "code",
   "execution_count": 9,
   "metadata": {},
   "outputs": [
    {
     "name": "stdout",
     "output_type": "stream",
     "text": [
      "Ola terça\n"
     ]
    }
   ],
   "source": [
    "hoje = 'terça'\n",
    "if hoje == 'segunda':\n",
    "    print('Ola segunda')\n",
    "elif hoje == 'terça':\n",
    "    print('Ola terça')\n",
    "elif hoje == 'quarta':\n",
    "    print('Ola quarta')\n",
    "else:\n",
    "    print('OLa quinta')"
   ]
  },
  {
   "cell_type": "markdown",
   "metadata": {},
   "source": [
    "## Operadores Relacionais\n",
    "Retorna um valor booleano"
   ]
  },
  {
   "cell_type": "code",
   "execution_count": 10,
   "metadata": {},
   "outputs": [
    {
     "data": {
      "text/plain": [
       "False"
      ]
     },
     "execution_count": 10,
     "metadata": {},
     "output_type": "execute_result"
    }
   ],
   "source": [
    "5 > 6"
   ]
  },
  {
   "cell_type": "code",
   "execution_count": 11,
   "metadata": {},
   "outputs": [
    {
     "data": {
      "text/plain": [
       "True"
      ]
     },
     "execution_count": 11,
     "metadata": {},
     "output_type": "execute_result"
    }
   ],
   "source": [
    "6 > 5"
   ]
  },
  {
   "cell_type": "code",
   "execution_count": 14,
   "metadata": {},
   "outputs": [
    {
     "data": {
      "text/plain": [
       "True"
      ]
     },
     "execution_count": 14,
     "metadata": {},
     "output_type": "execute_result"
    }
   ],
   "source": [
    "4 == 4"
   ]
  },
  {
   "cell_type": "markdown",
   "metadata": {},
   "source": [
    "## Condicionais Aninhados"
   ]
  },
  {
   "cell_type": "code",
   "execution_count": 17,
   "metadata": {},
   "outputs": [
    {
     "name": "stdout",
     "output_type": "stream",
     "text": [
      "Quem és tu\n"
     ]
    }
   ],
   "source": [
    "idade = 34\n",
    "name = 'Gio'\n",
    "if idade == 56:\n",
    "    if name == 'Dinah':\n",
    "        print('Sua idade é 26')\n",
    "    else:\n",
    "        print('Então tá')\n",
    "else:\n",
    "    print('Quem és tu')"
   ]
  }
 ],
 "metadata": {
  "kernelspec": {
   "display_name": "Python 3",
   "language": "python",
   "name": "python3"
  },
  "language_info": {
   "codemirror_mode": {
    "name": "ipython",
    "version": 3
   },
   "file_extension": ".py",
   "mimetype": "text/x-python",
   "name": "python",
   "nbconvert_exporter": "python",
   "pygments_lexer": "ipython3",
   "version": "3.12.0"
  }
 },
 "nbformat": 4,
 "nbformat_minor": 2
}

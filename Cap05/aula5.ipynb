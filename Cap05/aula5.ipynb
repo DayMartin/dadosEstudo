{
 "cells": [
  {
   "cell_type": "markdown",
   "metadata": {},
   "source": [
    "### Trabalhando com Loop For e Loop While juntos"
   ]
  },
  {
   "cell_type": "markdown",
   "metadata": {},
   "source": [
    "#### Iniciamos com um pseudocódigo para nos ajudar"
   ]
  },
  {
   "cell_type": "markdown",
   "metadata": {},
   "source": [
    "Inicialize uma lista vazia para armazenar os números primos\n",
    "Para cada número N entre 2 e 30:\n",
    "  Inicialize uma variável eh_primo como verdadeira\n",
    "  Para cada número i entre 2 e N/2:\n",
    "    Se N é divisível por i, então:\n",
    "      Altere a variável eh_primo para falso\n",
    "      Pare de verificar os outros números\n",
    "  Se a variável eh_primo ainda é verdadeira, adicione N à lista de números primos\n",
    "Imprima a lista de números primos"
   ]
  },
  {
   "cell_type": "code",
   "execution_count": 3,
   "metadata": {},
   "outputs": [
    {
     "name": "stdout",
     "output_type": "stream",
     "text": [
      "[2, 3, 5, 7, 11, 13, 17, 19, 23, 29]\n",
      "CPU times: user 1.07 ms, sys: 234 µs, total: 1.3 ms\n",
      "Wall time: 1.4 ms\n"
     ]
    }
   ],
   "source": [
    "%%time\n",
    "# Encontrando números primos entre 2 e 30 usando loop for e while\n",
    "# Variável para armazenar números primos\n",
    "primos = []\n",
    "# Loop for para percorrer números de 2 a 30\n",
    "for num in range(2, 31):\n",
    "    \n",
    "    # Variável de controle\n",
    "    eh_primo = True\n",
    "    \n",
    "    # Loop while para verificar se o número é primo\n",
    "    i = 2\n",
    "    while i <= num // 2:\n",
    "        if num % i == 0:\n",
    "            eh_primo = False\n",
    "            break\n",
    "        i += 1\n",
    "    \n",
    "    # Adicionando o número primo na lista\n",
    "    if eh_primo:\n",
    "        primos.append(num)\n",
    "\n",
    "# Imprimindo a lista de números primos\n",
    "print(primos)"
   ]
  }
 ],
 "metadata": {
  "kernelspec": {
   "display_name": "Python 3",
   "language": "python",
   "name": "python3"
  },
  "language_info": {
   "codemirror_mode": {
    "name": "ipython",
    "version": 3
   },
   "file_extension": ".py",
   "mimetype": "text/x-python",
   "name": "python",
   "nbconvert_exporter": "python",
   "pygments_lexer": "ipython3",
   "version": "3.12.0"
  }
 },
 "nbformat": 4,
 "nbformat_minor": 2
}

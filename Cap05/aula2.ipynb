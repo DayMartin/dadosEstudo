{
 "cells": [
  {
   "cell_type": "markdown",
   "metadata": {},
   "source": [
    "### Loop FOR"
   ]
  },
  {
   "cell_type": "code",
   "execution_count": 1,
   "metadata": {},
   "outputs": [
    {
     "name": "stdout",
     "output_type": "stream",
     "text": [
      "1\n",
      "2\n",
      "3\n"
     ]
    }
   ],
   "source": [
    "# Criando uma tupla e imprindo cada um dos valores\n",
    "tp = (1,2,3)\n",
    "for i in tp:\n",
    "    print(i)"
   ]
  },
  {
   "cell_type": "code",
   "execution_count": 2,
   "metadata": {},
   "outputs": [
    {
     "name": "stdout",
     "output_type": "stream",
     "text": [
      "dinah\n",
      "magoou\n",
      "giovana\n"
     ]
    }
   ],
   "source": [
    "lista = ['dinah', 'magoou', 'giovana']\n",
    "for i in lista:\n",
    "    print(i)"
   ]
  },
  {
   "cell_type": "code",
   "execution_count": 3,
   "metadata": {},
   "outputs": [
    {
     "name": "stdout",
     "output_type": "stream",
     "text": [
      "0\n",
      "1\n",
      "2\n",
      "3\n",
      "4\n"
     ]
    }
   ],
   "source": [
    "for i in range(0,5):\n",
    "    print(i)"
   ]
  },
  {
   "cell_type": "code",
   "execution_count": 4,
   "metadata": {},
   "outputs": [
    {
     "name": "stdout",
     "output_type": "stream",
     "text": [
      "0\n",
      "2\n",
      "4\n",
      "6\n",
      "8\n",
      "10\n"
     ]
    }
   ],
   "source": [
    "lista = range(0,11)\n",
    "for i in lista:\n",
    "    if i % 2 == 0:\n",
    "        print(i)"
   ]
  },
  {
   "cell_type": "markdown",
   "metadata": {},
   "source": [
    "### Loops Aninhados"
   ]
  },
  {
   "cell_type": "code",
   "execution_count": 7,
   "metadata": {},
   "outputs": [
    {
     "name": "stdout",
     "output_type": "stream",
     "text": [
      "\n",
      " 0\n",
      "\n",
      " 0\n",
      "---------------\n",
      "\n",
      " 1\n",
      "\n",
      " 2\n",
      "---------------\n",
      "\n",
      " 2\n",
      "\n",
      " 4\n",
      "---------------\n",
      "\n",
      " 3\n",
      "\n",
      " 6\n",
      "---------------\n",
      "\n",
      " 4\n",
      "\n",
      " 8\n",
      "---------------\n"
     ]
    }
   ],
   "source": [
    "list1 = [0,1,2,3,4]\n",
    "list2 = [1,2]\n",
    "\n",
    "for num1 in list1:\n",
    "    #for interno\n",
    "    for num2 in list2:\n",
    "        print('\\n', num1 * num2)\n",
    "    print('---------------')"
   ]
  },
  {
   "cell_type": "code",
   "execution_count": 15,
   "metadata": {},
   "outputs": [
    {
     "name": "stdout",
     "output_type": "stream",
     "text": [
      "O elemento 48 existe nas duas lista\n"
     ]
    }
   ],
   "source": [
    "# o numero 48 aparece nas duas listas?\n",
    "lista1 = [1,2,45,76,134,48]\n",
    "lista2 = [23,234,6,23,23,7,48]\n",
    "\n",
    "#Loop externo\n",
    "for numero1 in lista1:\n",
    "\n",
    "    #Loop interno\n",
    "    for numero2 in lista2:\n",
    "\n",
    "        #Condicional\n",
    "        if numero1 == 48 and numero2 == 48:\n",
    "            print('O elemento 48 existe nas duas lista')\n",
    "\n",
    "\n"
   ]
  },
  {
   "cell_type": "code",
   "execution_count": 26,
   "metadata": {},
   "outputs": [
    {
     "name": "stdout",
     "output_type": "stream",
     "text": [
      "A soma das duas listas entre os pares é:  130\n"
     ]
    }
   ],
   "source": [
    "# somar os numeros pares das listas\n",
    "listinha1 = [2,4,5,56,7,8,10,11]\n",
    "listinha2 = [2,4,5,65,32,11,12]\n",
    "soma = 0\n",
    "\n",
    "for lista48 in [listinha1,listinha2]:\n",
    "\n",
    "    for numerozinho in lista48:\n",
    "\n",
    "        if numerozinho % 2 == 0:\n",
    "            soma += numerozinho\n",
    "print('A soma das duas listas entre os pares é: ', soma)"
   ]
  },
  {
   "cell_type": "code",
   "execution_count": 27,
   "metadata": {},
   "outputs": [
    {
     "name": "stdout",
     "output_type": "stream",
     "text": [
      "O maior numero é 4523\n"
     ]
    }
   ],
   "source": [
    "# encontrar o maior numero entre a matriz\n",
    "\n",
    "matriz = [[3,23,62,33], [84,90,1,111,4523], [900, 234,1748]]\n",
    "maiorNumero = 0\n",
    "\n",
    "for linha in matriz:\n",
    "\n",
    "    for numeroGrande in linha:\n",
    "\n",
    "        if numeroGrande >= maiorNumero:\n",
    "            maiorNumero = numeroGrande\n",
    "print('O maior numero é', maiorNumero)\n"
   ]
  },
  {
   "cell_type": "markdown",
   "metadata": {},
   "source": [
    "### Loop com dicionário\n"
   ]
  },
  {
   "cell_type": "code",
   "execution_count": 1,
   "metadata": {},
   "outputs": [
    {
     "name": "stdout",
     "output_type": "stream",
     "text": [
      "Dinah\n",
      "Giovana\n"
     ]
    }
   ],
   "source": [
    "dici = {'Dinah':34, 'Giovana':98}\n",
    "for i in dici:\n",
    "    print(i)"
   ]
  },
  {
   "cell_type": "code",
   "execution_count": 4,
   "metadata": {},
   "outputs": [
    {
     "name": "stdout",
     "output_type": "stream",
     "text": [
      "Dinah 34\n",
      "Giovana 98\n"
     ]
    }
   ],
   "source": [
    "# imprir o item completo com chave valor\n",
    "for i,e in dici.items():\n",
    "    print(i,e)"
   ]
  },
  {
   "cell_type": "code",
   "execution_count": 8,
   "metadata": {},
   "outputs": [
    {
     "name": "stdout",
     "output_type": "stream",
     "text": [
      "('Dinah', 34)\n",
      "('Giovana', 98)\n"
     ]
    }
   ],
   "source": [
    "# novo teste, chamando k ao inves de um k,v\n",
    "for k in dici.items():\n",
    "    print(k)"
   ]
  }
 ],
 "metadata": {
  "kernelspec": {
   "display_name": "Python 3",
   "language": "python",
   "name": "python3"
  },
  "language_info": {
   "codemirror_mode": {
    "name": "ipython",
    "version": 3
   },
   "file_extension": ".py",
   "mimetype": "text/x-python",
   "name": "python",
   "nbconvert_exporter": "python",
   "pygments_lexer": "ipython3",
   "version": "3.12.0"
  }
 },
 "nbformat": 4,
 "nbformat_minor": 2
}

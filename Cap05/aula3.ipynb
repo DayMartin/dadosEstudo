{
 "cells": [
  {
   "cell_type": "markdown",
   "metadata": {},
   "source": [
    "## Loop While ( enquanto algo for verdadeiro)\n"
   ]
  },
  {
   "cell_type": "code",
   "execution_count": 7,
   "metadata": {},
   "outputs": [
    {
     "name": "stdout",
     "output_type": "stream",
     "text": [
      "1\n",
      "2\n",
      "4\n",
      "8\n"
     ]
    }
   ],
   "source": [
    "valor = 1\n",
    "while valor < 10:\n",
    "    print(valor)\n",
    "    valor = valor * 2\n"
   ]
  },
  {
   "cell_type": "code",
   "execution_count": 8,
   "metadata": {},
   "outputs": [
    {
     "name": "stdout",
     "output_type": "stream",
     "text": [
      "O valor é: 0\n",
      "Somando o valor...\n",
      "O valor é: 1\n",
      "Somando o valor...\n",
      "O valor é: 2\n",
      "Somando o valor...\n",
      "O valor é: 3\n",
      "Somando o valor...\n",
      "O valor é: 4\n",
      "Somando o valor...\n",
      "O valor é: 5\n",
      "Somando o valor...\n",
      "O valor é: 6\n",
      "Somando o valor...\n",
      "O valor é: 7\n",
      "Somando o valor...\n",
      "O valor é: 8\n",
      "Somando o valor...\n",
      "O valor é: 9\n",
      "Somando o valor...\n",
      "Chegou ao fim da soma\n"
     ]
    }
   ],
   "source": [
    "valor1 = 0\n",
    "while valor1 < 10:\n",
    "    print('O valor é:', valor1)\n",
    "    print('Somando o valor...')\n",
    "    valor1 += 1\n",
    "else:\n",
    "    print('Chegou ao fim da soma')"
   ]
  },
  {
   "cell_type": "markdown",
   "metadata": {},
   "source": [
    "## Break, Pass, Continue\n",
    "\n",
    "A diferença entre Pass e Continue é que o Pass ele continua passando até que a condição seja verdadeira\n",
    "Agora o Continue é utilizado para que por exemplo \"Se encontrar em uma fraze a letra Z, pule ela, e continue a exibir o restante\""
   ]
  },
  {
   "cell_type": "code",
   "execution_count": 11,
   "metadata": {},
   "outputs": [
    {
     "name": "stdout",
     "output_type": "stream",
     "text": [
      "Somando valores\n",
      "Somando valores\n",
      "Somando valores\n",
      "Somando valores\n",
      "Somando valores\n",
      "Encontramos o valor 5\n"
     ]
    }
   ],
   "source": [
    "valor2 = 0\n",
    "while valor2 < 10:\n",
    "    if valor2 == 5:\n",
    "        print('Encontramos o valor 5')\n",
    "        break\n",
    "    else:\n",
    "        pass\n",
    "    print('Somando valores')\n",
    "    valor2 = valor2 + 1"
   ]
  },
  {
   "cell_type": "code",
   "execution_count": 16,
   "metadata": {},
   "outputs": [
    {
     "name": "stdout",
     "output_type": "stream",
     "text": [
      "E\n",
      "u\n",
      " \n",
      "g\n",
      "o\n",
      "s\n",
      "t\n",
      "o\n",
      " \n",
      "m\n",
      "u\n",
      "i\n",
      "t\n",
      "o\n",
      " \n",
      " \n",
      "d\n",
      "e\n",
      " \n",
      "P\n",
      "y\n",
      "t\n",
      "h\n",
      "o\n",
      "n\n"
     ]
    }
   ],
   "source": [
    "# Aqui ele ignora as letras 'z' e continue a mostrar o restante do texto\n",
    "valor3 = 'Eu gosto muito zzz de Python'\n",
    "for letra in valor3:\n",
    "    if letra == 'z':\n",
    "        continue\n",
    "    print(letra)"
   ]
  }
 ],
 "metadata": {
  "kernelspec": {
   "display_name": "Python 3",
   "language": "python",
   "name": "python3"
  },
  "language_info": {
   "codemirror_mode": {
    "name": "ipython",
    "version": 3
   },
   "file_extension": ".py",
   "mimetype": "text/x-python",
   "name": "python",
   "nbconvert_exporter": "python",
   "pygments_lexer": "ipython3",
   "version": "3.12.0"
  }
 },
 "nbformat": 4,
 "nbformat_minor": 2
}

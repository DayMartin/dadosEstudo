{
 "cells": [
  {
   "cell_type": "markdown",
   "metadata": {},
   "source": [
    "### Manipulando arquivos em Python"
   ]
  },
  {
   "cell_type": "markdown",
   "metadata": {},
   "source": [
    "# Lendo Arquivos "
   ]
  },
  {
   "cell_type": "code",
   "execution_count": 34,
   "metadata": {},
   "outputs": [],
   "source": [
    "## Comando para abrir um arquivo .txt, não esqueça de utilizar no fim \"r\" para read de leitura\n",
    "arquivo = open(\"arquivos/arquivo_de_texto.txt\", \"r\")"
   ]
  },
  {
   "cell_type": "code",
   "execution_count": 45,
   "metadata": {},
   "outputs": [
    {
     "name": "stdout",
     "output_type": "stream",
     "text": [
      "Eu estou introduzindo a manipulação de arquivos em Python\n",
      "\n"
     ]
    }
   ],
   "source": [
    "## Comando para ler o arquivo, toda vez que você le o arquivo o python leva o cursor para o final do texto\n",
    "## Se você iniciar esse comando mais de 1 vez vai ver que apartir do 2º inicio o texto some\n",
    "## Isso porque ele continua a leitura de onde parou o cursor\n",
    "print(arquivo.read())"
   ]
  },
  {
   "cell_type": "code",
   "execution_count": 44,
   "metadata": {},
   "outputs": [
    {
     "name": "stdout",
     "output_type": "stream",
     "text": [
      "0\n"
     ]
    }
   ],
   "source": [
    "### Para resolver isto, utilize o Comando para Retornar para o ínicio do arquivo\n",
    "print(arquivo.seek(0,0))"
   ]
  },
  {
   "cell_type": "code",
   "execution_count": 36,
   "metadata": {},
   "outputs": [
    {
     "name": "stdout",
     "output_type": "stream",
     "text": [
      "60\n"
     ]
    }
   ],
   "source": [
    "### Contar o número de caracteres\n",
    "print(arquivo.tell())"
   ]
  },
  {
   "cell_type": "code",
   "execution_count": 37,
   "metadata": {},
   "outputs": [
    {
     "name": "stdout",
     "output_type": "stream",
     "text": [
      "\n"
     ]
    }
   ],
   "source": [
    "### Lendo os primeiros 23 caracteres, toda vez que o comando é apertado ele continua lendo da onde parou\n",
    "## então precisa reiniciar com o seek novamente\n",
    "print(arquivo.read(23))"
   ]
  }
 ],
 "metadata": {
  "kernelspec": {
   "display_name": "Python 3",
   "language": "python",
   "name": "python3"
  },
  "language_info": {
   "codemirror_mode": {
    "name": "ipython",
    "version": 3
   },
   "file_extension": ".py",
   "mimetype": "text/x-python",
   "name": "python",
   "nbconvert_exporter": "python",
   "pygments_lexer": "ipython3",
   "version": "3.12.0"
  }
 },
 "nbformat": 4,
 "nbformat_minor": 2
}

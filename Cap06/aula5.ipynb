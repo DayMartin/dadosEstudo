{
 "cells": [
  {
   "cell_type": "markdown",
   "metadata": {},
   "source": [
    "### Utilizando Pandas"
   ]
  },
  {
   "cell_type": "code",
   "execution_count": 16,
   "metadata": {},
   "outputs": [],
   "source": [
    "import pandas as pd"
   ]
  },
  {
   "cell_type": "code",
   "execution_count": 17,
   "metadata": {},
   "outputs": [],
   "source": [
    "documento = 'arquivos/salarios.csv'"
   ]
  },
  {
   "cell_type": "code",
   "execution_count": 18,
   "metadata": {},
   "outputs": [],
   "source": [
    "df = pd.read_csv(documento)"
   ]
  },
  {
   "cell_type": "code",
   "execution_count": 19,
   "metadata": {},
   "outputs": [
    {
     "data": {
      "text/html": [
       "<div>\n",
       "<style scoped>\n",
       "    .dataframe tbody tr th:only-of-type {\n",
       "        vertical-align: middle;\n",
       "    }\n",
       "\n",
       "    .dataframe tbody tr th {\n",
       "        vertical-align: top;\n",
       "    }\n",
       "\n",
       "    .dataframe thead th {\n",
       "        text-align: right;\n",
       "    }\n",
       "</style>\n",
       "<table border=\"1\" class=\"dataframe\">\n",
       "  <thead>\n",
       "    <tr style=\"text-align: right;\">\n",
       "      <th></th>\n",
       "      <th>Name</th>\n",
       "      <th>Position Title</th>\n",
       "      <th>Department</th>\n",
       "      <th>Employee Annual Salary</th>\n",
       "    </tr>\n",
       "  </thead>\n",
       "  <tbody>\n",
       "    <tr>\n",
       "      <th>0</th>\n",
       "      <td>AARON,  ELVIA J</td>\n",
       "      <td>WATER RATE TAKER</td>\n",
       "      <td>WATER MGMNT</td>\n",
       "      <td>$88967.00</td>\n",
       "    </tr>\n",
       "    <tr>\n",
       "      <th>1</th>\n",
       "      <td>AARON,  JEFFERY M</td>\n",
       "      <td>POLICE OFFICER</td>\n",
       "      <td>POLICE</td>\n",
       "      <td>$80778.00</td>\n",
       "    </tr>\n",
       "    <tr>\n",
       "      <th>2</th>\n",
       "      <td>AARON,  KARINA</td>\n",
       "      <td>POLICE OFFICER</td>\n",
       "      <td>POLICE</td>\n",
       "      <td>$80778.00</td>\n",
       "    </tr>\n",
       "    <tr>\n",
       "      <th>3</th>\n",
       "      <td>AARON,  KIMBERLEI R</td>\n",
       "      <td>CHIEF CONTRACT EXPEDITER</td>\n",
       "      <td>GENERAL SERVICES</td>\n",
       "      <td>$84780.00</td>\n",
       "    </tr>\n",
       "    <tr>\n",
       "      <th>4</th>\n",
       "      <td>ABAD JR,  VICENTE M</td>\n",
       "      <td>CIVIL ENGINEER IV</td>\n",
       "      <td>WATER MGMNT</td>\n",
       "      <td>$104736.00</td>\n",
       "    </tr>\n",
       "  </tbody>\n",
       "</table>\n",
       "</div>"
      ],
      "text/plain": [
       "                  Name            Position Title        Department  \\\n",
       "0      AARON,  ELVIA J          WATER RATE TAKER       WATER MGMNT   \n",
       "1    AARON,  JEFFERY M            POLICE OFFICER            POLICE   \n",
       "2       AARON,  KARINA            POLICE OFFICER            POLICE   \n",
       "3  AARON,  KIMBERLEI R  CHIEF CONTRACT EXPEDITER  GENERAL SERVICES   \n",
       "4  ABAD JR,  VICENTE M         CIVIL ENGINEER IV       WATER MGMNT   \n",
       "\n",
       "  Employee Annual Salary  \n",
       "0              $88967.00  \n",
       "1              $80778.00  \n",
       "2              $80778.00  \n",
       "3              $84780.00  \n",
       "4             $104736.00  "
      ]
     },
     "execution_count": 19,
     "metadata": {},
     "output_type": "execute_result"
    }
   ],
   "source": [
    "df.head()"
   ]
  },
  {
   "cell_type": "code",
   "execution_count": 24,
   "metadata": {},
   "outputs": [
    {
     "data": {
      "text/plain": [
       "Position Title\n",
       "POLICE OFFICER                            9489\n",
       "FIREFIGHTER-EMT                           1191\n",
       "SERGEANT                                  1138\n",
       "FIREFIGHTER                                970\n",
       "POLICE OFFICER (ASSIGNED AS DETECTIVE)     808\n",
       "                                          ... \n",
       "FOREMAN OF WINDOW WASHERS                    1\n",
       "SUPVSR OF INFORMATION SERVICES               1\n",
       "MANAGER OF TAX POLICY                        1\n",
       "FOREMAN OF ARCHITECTURAL IRON WORKERS        1\n",
       "MECHANICAL ENGINEER IV                       1\n",
       "Name: count, Length: 1094, dtype: int64"
      ]
     },
     "execution_count": 24,
     "metadata": {},
     "output_type": "execute_result"
    }
   ],
   "source": [
    "df[\"Position Title\"].value_counts()"
   ]
  },
  {
   "cell_type": "markdown",
   "metadata": {},
   "source": [
    "### Nova consulta"
   ]
  },
  {
   "cell_type": "code",
   "execution_count": 25,
   "metadata": {},
   "outputs": [],
   "source": [
    "arquivo = (\"arquivos/profissao2013.csv\")"
   ]
  },
  {
   "cell_type": "code",
   "execution_count": 26,
   "metadata": {},
   "outputs": [],
   "source": [
    "leitura = pd.read_csv(arquivo)"
   ]
  },
  {
   "cell_type": "code",
   "execution_count": 27,
   "metadata": {},
   "outputs": [
    {
     "data": {
      "text/html": [
       "<div>\n",
       "<style scoped>\n",
       "    .dataframe tbody tr th:only-of-type {\n",
       "        vertical-align: middle;\n",
       "    }\n",
       "\n",
       "    .dataframe tbody tr th {\n",
       "        vertical-align: top;\n",
       "    }\n",
       "\n",
       "    .dataframe thead th {\n",
       "        text-align: right;\n",
       "    }\n",
       "</style>\n",
       "<table border=\"1\" class=\"dataframe\">\n",
       "  <thead>\n",
       "    <tr style=\"text-align: right;\">\n",
       "      <th></th>\n",
       "      <th>FUND TYPE</th>\n",
       "      <th>DEPARTMENT CODE</th>\n",
       "      <th>DEPARTMENT DESCRIPTION</th>\n",
       "      <th>FUND CODE</th>\n",
       "      <th>FUND DESCRIPTION</th>\n",
       "      <th>ORGANIZATION CODE</th>\n",
       "      <th>ORGANIZATION DESCRIPTION</th>\n",
       "      <th>DIVISION CODE</th>\n",
       "      <th>DIVISION DESCRIPTION</th>\n",
       "      <th>SECTION CODE</th>\n",
       "      <th>...</th>\n",
       "      <th>SUB-SECTION DESCRIPTION</th>\n",
       "      <th>SCHEDULE / GRADE</th>\n",
       "      <th>BARGAINING UNIT</th>\n",
       "      <th>TITLE CODE</th>\n",
       "      <th>TITLE DESCRIPTION</th>\n",
       "      <th>BUDGETED UNIT</th>\n",
       "      <th>TOTAL BUDGETED UNIT</th>\n",
       "      <th>POSITION CONTROL</th>\n",
       "      <th>BUDGETED PAY RATE</th>\n",
       "      <th>TOTAL BUDGETED AMOUNT</th>\n",
       "    </tr>\n",
       "  </thead>\n",
       "  <tbody>\n",
       "    <tr>\n",
       "      <th>0</th>\n",
       "      <td>Local</td>\n",
       "      <td>1</td>\n",
       "      <td>OFFICE OF THE MAYOR</td>\n",
       "      <td>100</td>\n",
       "      <td>CORPORATE FUND</td>\n",
       "      <td>1005</td>\n",
       "      <td>OFFICE OF THE MAYOR</td>\n",
       "      <td>2005</td>\n",
       "      <td>OFFICE OF THE MAYOR</td>\n",
       "      <td>3005</td>\n",
       "      <td>...</td>\n",
       "      <td>NaN</td>\n",
       "      <td>1 00</td>\n",
       "      <td>9</td>\n",
       "      <td>9901</td>\n",
       "      <td>Mayor</td>\n",
       "      <td>Annual</td>\n",
       "      <td>1</td>\n",
       "      <td>1</td>\n",
       "      <td>216210.0</td>\n",
       "      <td>216210.0</td>\n",
       "    </tr>\n",
       "    <tr>\n",
       "      <th>1</th>\n",
       "      <td>Local</td>\n",
       "      <td>1</td>\n",
       "      <td>OFFICE OF THE MAYOR</td>\n",
       "      <td>100</td>\n",
       "      <td>CORPORATE FUND</td>\n",
       "      <td>1005</td>\n",
       "      <td>OFFICE OF THE MAYOR</td>\n",
       "      <td>2005</td>\n",
       "      <td>OFFICE OF THE MAYOR</td>\n",
       "      <td>3005</td>\n",
       "      <td>...</td>\n",
       "      <td>NaN</td>\n",
       "      <td>1 00</td>\n",
       "      <td>0</td>\n",
       "      <td>9637</td>\n",
       "      <td>Administrative Assistant</td>\n",
       "      <td>Annual</td>\n",
       "      <td>1</td>\n",
       "      <td>1</td>\n",
       "      <td>48000.0</td>\n",
       "      <td>48000.0</td>\n",
       "    </tr>\n",
       "    <tr>\n",
       "      <th>2</th>\n",
       "      <td>Local</td>\n",
       "      <td>1</td>\n",
       "      <td>OFFICE OF THE MAYOR</td>\n",
       "      <td>100</td>\n",
       "      <td>CORPORATE FUND</td>\n",
       "      <td>1005</td>\n",
       "      <td>OFFICE OF THE MAYOR</td>\n",
       "      <td>2005</td>\n",
       "      <td>OFFICE OF THE MAYOR</td>\n",
       "      <td>3005</td>\n",
       "      <td>...</td>\n",
       "      <td>NaN</td>\n",
       "      <td>1 00</td>\n",
       "      <td>0</td>\n",
       "      <td>9637</td>\n",
       "      <td>Administrative Assistant</td>\n",
       "      <td>Annual</td>\n",
       "      <td>1</td>\n",
       "      <td>1</td>\n",
       "      <td>44004.0</td>\n",
       "      <td>44004.0</td>\n",
       "    </tr>\n",
       "    <tr>\n",
       "      <th>3</th>\n",
       "      <td>Local</td>\n",
       "      <td>1</td>\n",
       "      <td>OFFICE OF THE MAYOR</td>\n",
       "      <td>100</td>\n",
       "      <td>CORPORATE FUND</td>\n",
       "      <td>1005</td>\n",
       "      <td>OFFICE OF THE MAYOR</td>\n",
       "      <td>2005</td>\n",
       "      <td>OFFICE OF THE MAYOR</td>\n",
       "      <td>3005</td>\n",
       "      <td>...</td>\n",
       "      <td>NaN</td>\n",
       "      <td>1 00</td>\n",
       "      <td>9</td>\n",
       "      <td>9617</td>\n",
       "      <td>Administrative Secretary</td>\n",
       "      <td>Annual</td>\n",
       "      <td>1</td>\n",
       "      <td>1</td>\n",
       "      <td>74988.0</td>\n",
       "      <td>74988.0</td>\n",
       "    </tr>\n",
       "    <tr>\n",
       "      <th>4</th>\n",
       "      <td>Local</td>\n",
       "      <td>1</td>\n",
       "      <td>OFFICE OF THE MAYOR</td>\n",
       "      <td>100</td>\n",
       "      <td>CORPORATE FUND</td>\n",
       "      <td>1005</td>\n",
       "      <td>OFFICE OF THE MAYOR</td>\n",
       "      <td>2005</td>\n",
       "      <td>OFFICE OF THE MAYOR</td>\n",
       "      <td>3010</td>\n",
       "      <td>...</td>\n",
       "      <td>NaN</td>\n",
       "      <td>1 00</td>\n",
       "      <td>9</td>\n",
       "      <td>9899</td>\n",
       "      <td>Chief of Staff</td>\n",
       "      <td>Annual</td>\n",
       "      <td>1</td>\n",
       "      <td>1</td>\n",
       "      <td>174996.0</td>\n",
       "      <td>174996.0</td>\n",
       "    </tr>\n",
       "  </tbody>\n",
       "</table>\n",
       "<p>5 rows × 22 columns</p>\n",
       "</div>"
      ],
      "text/plain": [
       "  FUND TYPE  DEPARTMENT CODE DEPARTMENT DESCRIPTION FUND CODE  \\\n",
       "0     Local                1    OFFICE OF THE MAYOR       100   \n",
       "1     Local                1    OFFICE OF THE MAYOR       100   \n",
       "2     Local                1    OFFICE OF THE MAYOR       100   \n",
       "3     Local                1    OFFICE OF THE MAYOR       100   \n",
       "4     Local                1    OFFICE OF THE MAYOR       100   \n",
       "\n",
       "  FUND DESCRIPTION  ORGANIZATION CODE ORGANIZATION DESCRIPTION  DIVISION CODE  \\\n",
       "0   CORPORATE FUND               1005      OFFICE OF THE MAYOR           2005   \n",
       "1   CORPORATE FUND               1005      OFFICE OF THE MAYOR           2005   \n",
       "2   CORPORATE FUND               1005      OFFICE OF THE MAYOR           2005   \n",
       "3   CORPORATE FUND               1005      OFFICE OF THE MAYOR           2005   \n",
       "4   CORPORATE FUND               1005      OFFICE OF THE MAYOR           2005   \n",
       "\n",
       "  DIVISION DESCRIPTION  SECTION CODE  ... SUB-SECTION DESCRIPTION  \\\n",
       "0  OFFICE OF THE MAYOR          3005  ...                     NaN   \n",
       "1  OFFICE OF THE MAYOR          3005  ...                     NaN   \n",
       "2  OFFICE OF THE MAYOR          3005  ...                     NaN   \n",
       "3  OFFICE OF THE MAYOR          3005  ...                     NaN   \n",
       "4  OFFICE OF THE MAYOR          3010  ...                     NaN   \n",
       "\n",
       "   SCHEDULE / GRADE BARGAINING UNIT TITLE CODE         TITLE DESCRIPTION  \\\n",
       "0              1 00               9       9901                     Mayor   \n",
       "1              1 00               0       9637  Administrative Assistant   \n",
       "2              1 00               0       9637  Administrative Assistant   \n",
       "3              1 00               9       9617  Administrative Secretary   \n",
       "4              1 00               9       9899            Chief of Staff   \n",
       "\n",
       "  BUDGETED UNIT TOTAL BUDGETED UNIT POSITION CONTROL  BUDGETED PAY RATE  \\\n",
       "0        Annual                   1                1           216210.0   \n",
       "1        Annual                   1                1            48000.0   \n",
       "2        Annual                   1                1            44004.0   \n",
       "3        Annual                   1                1            74988.0   \n",
       "4        Annual                   1                1           174996.0   \n",
       "\n",
       "   TOTAL BUDGETED AMOUNT  \n",
       "0               216210.0  \n",
       "1                48000.0  \n",
       "2                44004.0  \n",
       "3                74988.0  \n",
       "4               174996.0  \n",
       "\n",
       "[5 rows x 22 columns]"
      ]
     },
     "execution_count": 27,
     "metadata": {},
     "output_type": "execute_result"
    }
   ],
   "source": [
    "leitura.head()"
   ]
  },
  {
   "cell_type": "code",
   "execution_count": 28,
   "metadata": {},
   "outputs": [
    {
     "data": {
      "text/plain": [
       "TITLE DESCRIPTION\n",
       "Schedule Salary Adjustments          484\n",
       "Police Officer                       198\n",
       "Staff Assistant                      158\n",
       "Fringe Benefits                      139\n",
       "Administrative Assistant II          137\n",
       "                                    ... \n",
       "Licensing Coordinator                  1\n",
       "Director of Youth Services             1\n",
       "Executive Director - Police Board      1\n",
       "Foster Grandparent                     1\n",
       "Personal Care Attendant II             1\n",
       "Name: count, Length: 1180, dtype: int64"
      ]
     },
     "execution_count": 28,
     "metadata": {},
     "output_type": "execute_result"
    }
   ],
   "source": [
    "leitura[\"TITLE DESCRIPTION\"].value_counts()"
   ]
  },
  {
   "cell_type": "code",
   "execution_count": 29,
   "metadata": {},
   "outputs": [
    {
     "data": {
      "text/plain": [
       "FUND TYPE                   7219\n",
       "DEPARTMENT CODE             7219\n",
       "DEPARTMENT DESCRIPTION      7219\n",
       "FUND CODE                   7219\n",
       "FUND DESCRIPTION            7219\n",
       "ORGANIZATION CODE           7219\n",
       "ORGANIZATION DESCRIPTION    7219\n",
       "DIVISION CODE               7219\n",
       "DIVISION DESCRIPTION        7219\n",
       "SECTION CODE                7219\n",
       "SECTION DESCRIPTION         7219\n",
       "SUBSECTION CODE             7219\n",
       "SUB-SECTION DESCRIPTION     3762\n",
       "SCHEDULE / GRADE            7219\n",
       "BARGAINING UNIT             7219\n",
       "TITLE CODE                  7219\n",
       "TITLE DESCRIPTION           7219\n",
       "BUDGETED UNIT               7219\n",
       "TOTAL BUDGETED UNIT         7219\n",
       "POSITION CONTROL            7219\n",
       "BUDGETED PAY RATE           7219\n",
       "TOTAL BUDGETED AMOUNT       7219\n",
       "dtype: int64"
      ]
     },
     "execution_count": 29,
     "metadata": {},
     "output_type": "execute_result"
    }
   ],
   "source": [
    "leitura.count()"
   ]
  }
 ],
 "metadata": {
  "kernelspec": {
   "display_name": "Python 3",
   "language": "python",
   "name": "python3"
  },
  "language_info": {
   "codemirror_mode": {
    "name": "ipython",
    "version": 3
   },
   "file_extension": ".py",
   "mimetype": "text/x-python",
   "name": "python",
   "nbconvert_exporter": "python",
   "pygments_lexer": "ipython3",
   "version": "3.12.0"
  }
 },
 "nbformat": 4,
 "nbformat_minor": 2
}

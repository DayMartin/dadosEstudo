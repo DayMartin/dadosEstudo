{
 "cells": [
  {
   "cell_type": "markdown",
   "metadata": {},
   "source": [
    "### Manipulando arquivo csv"
   ]
  },
  {
   "cell_type": "markdown",
   "metadata": {},
   "source": [
    "Espera-se que as colunas sejam separadas por vírgula"
   ]
  },
  {
   "cell_type": "code",
   "execution_count": 1,
   "metadata": {},
   "outputs": [],
   "source": [
    "import csv"
   ]
  },
  {
   "cell_type": "code",
   "execution_count": 12,
   "metadata": {},
   "outputs": [],
   "source": [
    "with open(\"arquivos/manipulando.csv\", \"w\") as documento:\n",
    "\n",
    "    ## Gravar o objeto de gravação\n",
    "    leitura = csv.writer(documento)\n",
    "\n",
    "    ## Gravar os dados \n",
    "    leitura.writerow(('coluna1 ', 'coluna2','coluna3'))\n",
    "    leitura.writerow(('Dinah', 'giovana', 'juninho'))\n",
    "    leitura.writerow(('Dinhazinha', 'Giovaninha', 'vitorinha'))"
   ]
  },
  {
   "cell_type": "code",
   "execution_count": 13,
   "metadata": {},
   "outputs": [
    {
     "name": "stdout",
     "output_type": "stream",
     "text": [
      "['coluna1 ', 'coluna2', 'coluna3']\n",
      "['Dinah', 'giovana', 'juninho']\n",
      "['Dinhazinha', 'Giovaninha', 'vitorinha']\n"
     ]
    }
   ],
   "source": [
    "with open('arquivos/manipulando.csv', 'r', encoding='utf8', newline='\\r\\n') as documentos:\n",
    "    leitor = csv.reader(documentos)\n",
    "    for x in leitor:\n",
    "        print(x)"
   ]
  },
  {
   "cell_type": "code",
   "execution_count": 14,
   "metadata": {},
   "outputs": [],
   "source": [
    "### Gerando uma lista com csv\n",
    "with open('arquivos/manipulando.csv', 'r') as manipulando:\n",
    "    leitor = csv.reader(manipulando)\n",
    "    listinha = list(leitor)"
   ]
  },
  {
   "cell_type": "code",
   "execution_count": 15,
   "metadata": {},
   "outputs": [
    {
     "name": "stdout",
     "output_type": "stream",
     "text": [
      "[['coluna1 ', 'coluna2', 'coluna3'], ['Dinah', 'giovana', 'juninho'], ['Dinhazinha', 'Giovaninha', 'vitorinha']]\n"
     ]
    }
   ],
   "source": [
    "print(listinha)"
   ]
  },
  {
   "cell_type": "code",
   "execution_count": 18,
   "metadata": {},
   "outputs": [
    {
     "name": "stdout",
     "output_type": "stream",
     "text": [
      "['Dinah', 'giovana', 'juninho']\n",
      "['Dinhazinha', 'Giovaninha', 'vitorinha']\n"
     ]
    }
   ],
   "source": [
    "for linha in listinha[1:]:\n",
    "    print(linha)"
   ]
  },
  {
   "cell_type": "markdown",
   "metadata": {},
   "source": [
    "### Indo mais além"
   ]
  },
  {
   "cell_type": "code",
   "execution_count": 60,
   "metadata": {},
   "outputs": [],
   "source": [
    "ql1 = str(input(['Digite 1 qualidade ']))\n",
    "ql2 = str(input(['Digite 2 qualidade ']))\n",
    "ql3 = str(input(['Digite 3 qualidade ']))\n"
   ]
  },
  {
   "cell_type": "code",
   "execution_count": 55,
   "metadata": {},
   "outputs": [],
   "source": [
    "## Rodar pela primeiro vez\n",
    "with open(\"arquivos/indoalem.csv\", 'w') as indoalem:\n",
    "    hoje = csv.writer(indoalem)\n",
    "    coluna = ['Motivo1','Motivo2', 'Motivo3']\n",
    "    linda = [ql1, ql2 , ql3 ]\n",
    "    hoje.writerow((coluna))\n",
    "    hoje.writerow((linda))"
   ]
  },
  {
   "cell_type": "code",
   "execution_count": 61,
   "metadata": {},
   "outputs": [],
   "source": [
    "## Rodar para acrescentar\n",
    "with open('arquivos/indoalem.csv', 'a') as adicionando:\n",
    "    adicionar = csv.writer(adicionando)\n",
    "    linda = [ql1, ql2 , ql3 ]\n",
    "    adicionar.writerow((linda))"
   ]
  },
  {
   "cell_type": "code",
   "execution_count": 62,
   "metadata": {},
   "outputs": [
    {
     "name": "stdout",
     "output_type": "stream",
     "text": [
      "['Motivo1', 'Motivo2', 'Motivo3']\n",
      "['Linda', 'bonita', 'cheirosa']\n",
      "['Casada', 'Empregada', 'Feliz']\n",
      "['Em paz', 'comigo', 'mesma']\n"
     ]
    }
   ],
   "source": [
    "with open('arquivos/indoalem.csv', 'r', encoding='utf8', newline='\\r\\n') as indoalems:\n",
    "    abrindoarquivo = csv.reader(indoalems)\n",
    "    for l in abrindoarquivo:\n",
    "        print(l)"
   ]
  }
 ],
 "metadata": {
  "kernelspec": {
   "display_name": "Python 3",
   "language": "python",
   "name": "python3"
  },
  "language_info": {
   "codemirror_mode": {
    "name": "ipython",
    "version": 3
   },
   "file_extension": ".py",
   "mimetype": "text/x-python",
   "name": "python",
   "nbconvert_exporter": "python",
   "pygments_lexer": "ipython3",
   "version": "3.12.0"
  }
 },
 "nbformat": 4,
 "nbformat_minor": 2
}

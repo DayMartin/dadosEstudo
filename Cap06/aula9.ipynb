{
 "cells": [
  {
   "cell_type": "markdown",
   "metadata": {},
   "source": [
    "### JSON"
   ]
  },
  {
   "cell_type": "markdown",
   "metadata": {},
   "source": [
    "Espera-se que o documento seja criado em formado de dicionário"
   ]
  },
  {
   "cell_type": "code",
   "execution_count": 57,
   "metadata": {},
   "outputs": [],
   "source": [
    "### Criando um dicionário\n",
    "pessoa = {\n",
    "    'Nome':'Dinah',\n",
    "    'Idade':16,\n",
    "    'Bens': ['Casa', 'Moto', 'Esposa'],\n",
    "    'Irmaos': ['Jhe','Julio','Biel','Drika', 'Etho', 'Nanda','Ricardo'],\n",
    "    'Adulta': True,\n",
    "    'Casada': True,\n",
    "    'id': 48\n",
    "}"
   ]
  },
  {
   "cell_type": "code",
   "execution_count": 58,
   "metadata": {},
   "outputs": [
    {
     "name": "stdout",
     "output_type": "stream",
     "text": [
      "Nome Dinah\n",
      "Idade 16\n",
      "Bens ['Casa', 'Moto', 'Esposa']\n",
      "Irmaos ['Jhe', 'Julio', 'Biel', 'Drika', 'Etho', 'Nanda', 'Ricardo']\n",
      "Adulta True\n",
      "Casada True\n",
      "id 48\n"
     ]
    }
   ],
   "source": [
    "## CRiando o loop para visualizar o dicionario\n",
    "for k,v in pessoa.items():\n",
    "    print(k,v)"
   ]
  },
  {
   "cell_type": "markdown",
   "metadata": {},
   "source": [
    "##### Importamos o json\n",
    "##### E chamamos o metodo dumps(que converte o dicionário em json)"
   ]
  },
  {
   "cell_type": "code",
   "execution_count": 36,
   "metadata": {},
   "outputs": [],
   "source": [
    "import json"
   ]
  },
  {
   "cell_type": "code",
   "execution_count": 37,
   "metadata": {},
   "outputs": [
    {
     "data": {
      "text/plain": [
       "'{\"Nome\": \"Dinah\", \"Idade\": 16, \"Adulta\": true, \"Casada\": true, \"id\": 48}'"
      ]
     },
     "execution_count": 37,
     "metadata": {},
     "output_type": "execute_result"
    }
   ],
   "source": [
    "json.dumps(pessoa)"
   ]
  },
  {
   "cell_type": "markdown",
   "metadata": {},
   "source": [
    "Vamos gravar isso em disco, utilizamos o variavel.white()"
   ]
  },
  {
   "cell_type": "code",
   "execution_count": 43,
   "metadata": {},
   "outputs": [],
   "source": [
    "with open('arquivos/hjafora.json','w') as ajson:\n",
    "    ajson.write(json.dumps(pessoa))"
   ]
  },
  {
   "cell_type": "markdown",
   "metadata": {},
   "source": [
    "utilzamos o json.loads() para gravar o carregamento em uma variavel"
   ]
  },
  {
   "cell_type": "code",
   "execution_count": 44,
   "metadata": {},
   "outputs": [],
   "source": [
    "with open('arquivos/hjafora.json','r') as asjson:\n",
    "    leijson = asjson.read()\n",
    "    rjson = json.loads(leijson)"
   ]
  },
  {
   "cell_type": "code",
   "execution_count": 45,
   "metadata": {},
   "outputs": [
    {
     "name": "stdout",
     "output_type": "stream",
     "text": [
      "{'Nome': 'Dinah', 'Idade': 16, 'Bens': ['Casa', 'Moto', 'Esposa'], 'Irmaos': ['Jhe', 'Julio', 'Biel', 'Drika', 'Etho', 'Nanda', 'Ricardo'], 'Adulta': True, 'Casada': True, 'id': 48}\n"
     ]
    }
   ],
   "source": [
    "print(rjson)"
   ]
  },
  {
   "cell_type": "code",
   "execution_count": 53,
   "metadata": {},
   "outputs": [
    {
     "name": "stdout",
     "output_type": "stream",
     "text": [
      "48\n"
     ]
    }
   ],
   "source": [
    "print(rjson['id'])"
   ]
  }
 ],
 "metadata": {
  "kernelspec": {
   "display_name": "Python 3",
   "language": "python",
   "name": "python3"
  },
  "language_info": {
   "codemirror_mode": {
    "name": "ipython",
    "version": 3
   },
   "file_extension": ".py",
   "mimetype": "text/x-python",
   "name": "python",
   "nbconvert_exporter": "python",
   "pygments_lexer": "ipython3",
   "version": "3.12.0"
  }
 },
 "nbformat": 4,
 "nbformat_minor": 2
}

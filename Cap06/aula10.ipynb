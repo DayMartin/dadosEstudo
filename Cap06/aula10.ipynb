{
 "cells": [
  {
   "cell_type": "markdown",
   "metadata": {},
   "source": [
    "### Arquivos da internet"
   ]
  },
  {
   "cell_type": "markdown",
   "metadata": {},
   "source": [
    "utilizando o método urlopen ( é igual o open que é o padrão de python, mas esse não é um metodo padão de python) ele é um método do pacote urllib.request"
   ]
  },
  {
   "cell_type": "code",
   "execution_count": 2,
   "metadata": {},
   "outputs": [],
   "source": [
    "from urllib.request import urlopen\n",
    "import json"
   ]
  },
  {
   "cell_type": "code",
   "execution_count": 11,
   "metadata": {},
   "outputs": [],
   "source": [
    "### Para arquivos locais utilizariamos: with open('arquivo', 'r', encoding='utf8')\n",
    "### Mas para urlopen utilizamos dessa forma:\n",
    "resposta = urlopen('https://vimeo.com/api/v2/video/57733101.json').read().decode('utf8')\n",
    "dados = json.loads(resposta)[0]"
   ]
  },
  {
   "cell_type": "code",
   "execution_count": 8,
   "metadata": {},
   "outputs": [
    {
     "name": "stdout",
     "output_type": "stream",
     "text": [
      "{'id': 57733101, 'title': 'The Good Man trailer', 'description': 'Trailer for the Manifesto Films production, The Good Man, now available in UK/Ireland/US/Canada/Australia/New Zealand on iTunes (https://itunes.apple.com/us/movie/the-good-man/id873130906) and DVD (http://www.amazon.co.uk/The-Good-Man-Aiden-Gillen/dp/B00IIK6CGU/). Co-production with Jet Black Entertainment (South Africa). Starring Aidan Gillen, Thabang Sidloyi, Kelly Campbell, Lunathi Mampofu. Written & directed by Phil Harrison. More info at www.thegoodmanfilm.com<br />\\r\\n<br />\\r\\nCheck out the Variety Magazine review here: http://www.variety.com/review/VE1117947909/', 'url': 'https://vimeo.com/57733101', 'upload_date': '2013-01-19 04:01:15', 'thumbnail_small': 'https://i.vimeocdn.com/video/436057121-e828a1f5478ec0136e957753d107f2a1268c64def9b82faac37c8e30c031cff2-d_100x75', 'thumbnail_medium': 'https://i.vimeocdn.com/video/436057121-e828a1f5478ec0136e957753d107f2a1268c64def9b82faac37c8e30c031cff2-d_200x150', 'thumbnail_large': 'https://i.vimeocdn.com/video/436057121-e828a1f5478ec0136e957753d107f2a1268c64def9b82faac37c8e30c031cff2-d_640', 'user_id': 1334563, 'user_name': 'Manifesto Films', 'user_url': 'https://vimeo.com/manifestofilms', 'user_portrait_small': 'https://i.vimeocdn.com/portrait/4778306_30x30', 'user_portrait_medium': 'https://i.vimeocdn.com/portrait/4778306_75x75', 'user_portrait_large': 'https://i.vimeocdn.com/portrait/4778306_100x100', 'user_portrait_huge': 'https://i.vimeocdn.com/portrait/4778306_300x300', 'stats_number_of_likes': 18, 'stats_number_of_plays': 6689, 'stats_number_of_comments': 0, 'duration': 143, 'width': 1024, 'height': 576, 'tags': 'belfast, cape town, africa, ireland, film', 'embed_privacy': 'anywhere'}\n"
     ]
    }
   ],
   "source": [
    "print(dados)"
   ]
  },
  {
   "cell_type": "code",
   "execution_count": 9,
   "metadata": {},
   "outputs": [
    {
     "name": "stdout",
     "output_type": "stream",
     "text": [
      "id 57733101\n",
      "title The Good Man trailer\n",
      "description Trailer for the Manifesto Films production, The Good Man, now available in UK/Ireland/US/Canada/Australia/New Zealand on iTunes (https://itunes.apple.com/us/movie/the-good-man/id873130906) and DVD (http://www.amazon.co.uk/The-Good-Man-Aiden-Gillen/dp/B00IIK6CGU/). Co-production with Jet Black Entertainment (South Africa). Starring Aidan Gillen, Thabang Sidloyi, Kelly Campbell, Lunathi Mampofu. Written & directed by Phil Harrison. More info at www.thegoodmanfilm.com<br />\n",
      "<br />\n",
      "Check out the Variety Magazine review here: http://www.variety.com/review/VE1117947909/\n",
      "url https://vimeo.com/57733101\n",
      "upload_date 2013-01-19 04:01:15\n",
      "thumbnail_small https://i.vimeocdn.com/video/436057121-e828a1f5478ec0136e957753d107f2a1268c64def9b82faac37c8e30c031cff2-d_100x75\n",
      "thumbnail_medium https://i.vimeocdn.com/video/436057121-e828a1f5478ec0136e957753d107f2a1268c64def9b82faac37c8e30c031cff2-d_200x150\n",
      "thumbnail_large https://i.vimeocdn.com/video/436057121-e828a1f5478ec0136e957753d107f2a1268c64def9b82faac37c8e30c031cff2-d_640\n",
      "user_id 1334563\n",
      "user_name Manifesto Films\n",
      "user_url https://vimeo.com/manifestofilms\n",
      "user_portrait_small https://i.vimeocdn.com/portrait/4778306_30x30\n",
      "user_portrait_medium https://i.vimeocdn.com/portrait/4778306_75x75\n",
      "user_portrait_large https://i.vimeocdn.com/portrait/4778306_100x100\n",
      "user_portrait_huge https://i.vimeocdn.com/portrait/4778306_300x300\n",
      "stats_number_of_likes 18\n",
      "stats_number_of_plays 6689\n",
      "stats_number_of_comments 0\n",
      "duration 143\n",
      "width 1024\n",
      "height 576\n",
      "tags belfast, cape town, africa, ireland, film\n",
      "embed_privacy anywhere\n"
     ]
    }
   ],
   "source": [
    "for k,v in dados.items():\n",
    "    print(k,v)"
   ]
  },
  {
   "cell_type": "code",
   "execution_count": 15,
   "metadata": {},
   "outputs": [
    {
     "name": "stdout",
     "output_type": "stream",
     "text": [
      "ID: 57733101\n",
      "URL: https://vimeo.com/57733101\n",
      "Número de Likes: 18\n",
      "Duração: 143 min\n",
      "Criador: Manifesto Films\n"
     ]
    }
   ],
   "source": [
    "print('ID:', dados['id'])\n",
    "print('URL:', dados['url'])\n",
    "print('Número de Likes:', dados['stats_number_of_likes'])\n",
    "print('Duração:', dados['duration'], 'min')\n",
    "print('Criador:', dados['user_name'])"
   ]
  },
  {
   "cell_type": "markdown",
   "metadata": {},
   "source": [
    "### Conversão de um arquivo json para txt"
   ]
  },
  {
   "cell_type": "code",
   "execution_count": 21,
   "metadata": {},
   "outputs": [],
   "source": [
    "arquivo_fonte = 'arquivos/hjafora.json'\n",
    "arquivo_convertido = 'arquivos/convertido.txt'"
   ]
  },
  {
   "cell_type": "markdown",
   "metadata": {},
   "source": [
    "1º Método"
   ]
  },
  {
   "cell_type": "code",
   "execution_count": 28,
   "metadata": {},
   "outputs": [],
   "source": [
    "## Abro o arquivo fonte como leitura ( read )\n",
    "with open(arquivo_fonte, 'r') as entrada:\n",
    "    ### Gravo sua leitura em uma variavel\n",
    "    entradas = entrada.read()\n",
    "    ### Abro o arquivo de destino como escrita ( white )\n",
    "    with open(arquivo_convertido, 'w') as saida:\n",
    "        ## gravo a escrita de destino com a leitura do arquivo fonte\n",
    "        saidas = saida.write(entradas)"
   ]
  },
  {
   "cell_type": "markdown",
   "metadata": {},
   "source": [
    "2º Método"
   ]
  },
  {
   "cell_type": "code",
   "execution_count": 36,
   "metadata": {},
   "outputs": [
    {
     "data": {
      "text/plain": [
       "181"
      ]
     },
     "execution_count": 36,
     "metadata": {},
     "output_type": "execute_result"
    }
   ],
   "source": [
    "open(arquivo_convertido, 'w').write(open(arquivo_fonte, 'r').read())"
   ]
  },
  {
   "cell_type": "markdown",
   "metadata": {},
   "source": [
    "Leitura do arquivo convertido"
   ]
  },
  {
   "cell_type": "code",
   "execution_count": 37,
   "metadata": {},
   "outputs": [],
   "source": [
    "with open(arquivo_convertido, 'r') as leitura_conversao:\n",
    "    lg = leitura_conversao.read()\n",
    "    lgjson = json.loads(lg)"
   ]
  },
  {
   "cell_type": "code",
   "execution_count": 38,
   "metadata": {},
   "outputs": [
    {
     "name": "stdout",
     "output_type": "stream",
     "text": [
      "{'Nome': 'Dinah', 'Idade': 16, 'Bens': ['Casa', 'Moto', 'Esposa'], 'Irmaos': ['Jhe', 'Julio', 'Biel', 'Drika', 'Etho', 'Nanda', 'Ricardo'], 'Adulta': True, 'Casada': True, 'id': 48}\n"
     ]
    }
   ],
   "source": [
    "print(lgjson)"
   ]
  }
 ],
 "metadata": {
  "kernelspec": {
   "display_name": "Python 3",
   "language": "python",
   "name": "python3"
  },
  "language_info": {
   "codemirror_mode": {
    "name": "ipython",
    "version": 3
   },
   "file_extension": ".py",
   "mimetype": "text/x-python",
   "name": "python",
   "nbconvert_exporter": "python",
   "pygments_lexer": "ipython3",
   "version": "3.12.0"
  }
 },
 "nbformat": 4,
 "nbformat_minor": 2
}

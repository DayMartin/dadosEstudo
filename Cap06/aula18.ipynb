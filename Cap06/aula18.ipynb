{
 "cells": [
  {
   "cell_type": "code",
   "execution_count": 6,
   "metadata": {},
   "outputs": [],
   "source": [
    "### Continuando com tratamento de erros\n",
    "\n",
    "def receber():\n",
    "    while True:\n",
    "        try:\n",
    "            val = int(input('Digite um número:'))\n",
    "        except:\n",
    "            print('Você não digitou um número, tente novamente:')\n",
    "            continue\n",
    "        else:\n",
    "            print('Obrigada por digitar um número')\n",
    "            print('O número digitado foi:', val)\n",
    "            break\n",
    "        finally:\n",
    "            print('Chegou ao fim')\n",
    "        print(val)\n",
    "            "
   ]
  },
  {
   "cell_type": "code",
   "execution_count": 7,
   "metadata": {},
   "outputs": [
    {
     "name": "stdout",
     "output_type": "stream",
     "text": [
      "Você não digitou um número, tente novamente:\n",
      "Chegou ao fim\n",
      "Você não digitou um número, tente novamente:\n",
      "Chegou ao fim\n",
      "Você não digitou um número, tente novamente:\n",
      "Chegou ao fim\n",
      "Obrigada por digitar um número\n",
      "O número digitado foi: 2\n",
      "Chegou ao fim\n"
     ]
    }
   ],
   "source": [
    "receber()"
   ]
  }
 ],
 "metadata": {
  "kernelspec": {
   "display_name": "Python 3",
   "language": "python",
   "name": "python3"
  },
  "language_info": {
   "codemirror_mode": {
    "name": "ipython",
    "version": 3
   },
   "file_extension": ".py",
   "mimetype": "text/x-python",
   "name": "python",
   "nbconvert_exporter": "python",
   "pygments_lexer": "ipython3",
   "version": "3.12.0"
  }
 },
 "nbformat": 4,
 "nbformat_minor": 2
}

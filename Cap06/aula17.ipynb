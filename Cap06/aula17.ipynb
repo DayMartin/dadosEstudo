{
 "cells": [
  {
   "cell_type": "markdown",
   "metadata": {},
   "source": [
    "### Tratamento de erros e exceções"
   ]
  },
  {
   "cell_type": "markdown",
   "metadata": {},
   "source": [
    "normalmente o código quebra pois o usuário é capaz de fazê-lo, então você deve pensar fora da caixa e imaginar todo tipo de erro que seu código pode gerar. O erro ainda vai continuar, mas você vai tratá-lo "
   ]
  },
  {
   "cell_type": "code",
   "execution_count": 2,
   "metadata": {},
   "outputs": [
    {
     "name": "stdout",
     "output_type": "stream",
     "text": [
      "Operação não permitida\n"
     ]
    }
   ],
   "source": [
    "### utilize try and except\n",
    "\n",
    "try:\n",
    "    print(4 + 'b')\n",
    "except TypeError:\n",
    "    print('Operação não permitida')"
   ]
  },
  {
   "cell_type": "code",
   "execution_count": 7,
   "metadata": {},
   "outputs": [
    {
     "name": "stdout",
     "output_type": "stream",
     "text": [
      "{\"Nome\": \"Dinah\", \"Idade\": 16, \"Bens\": [\"Casa\", \"Moto\", \"Esposa\"], \"Irmaos\": [\"Jhe\", \"Julio\", \"Biel\", \"Drika\", \"Etho\", \"Nanda\", \"Ricardo\"], \"Adulta\": true, \"Casada\": true, \"id\": 48}\n"
     ]
    }
   ],
   "source": [
    "### AQUI NÃO DARÁ ERRO POIS EXISTE O ARQUIVO\n",
    "\n",
    "## utilizando try, except and else\n",
    "try:\n",
    "    with open('arquivos/convertido.txt', 'r') as arquivo:\n",
    "        abrir = arquivo.read()\n",
    "except FileNotFoundError:\n",
    "    print('Arquivo não encontrado')\n",
    "else: \n",
    "    print(abrir)"
   ]
  },
  {
   "cell_type": "code",
   "execution_count": 8,
   "metadata": {},
   "outputs": [
    {
     "name": "stdout",
     "output_type": "stream",
     "text": [
      "Arquivo não encontrado\n"
     ]
    }
   ],
   "source": [
    "### AQUI DARÁ O ERRO POR NÃO EXISTE O ARQUIVO\n",
    "\n",
    "try:\n",
    "    with open('arquivo/arquivos.txt', 'r') as documento:\n",
    "        dc = documento.read()\n",
    "except FileNotFoundError:\n",
    "    print('Arquivo não encontrado')\n",
    "else: \n",
    "    print(dc)"
   ]
  },
  {
   "cell_type": "markdown",
   "metadata": {},
   "source": [
    "#### Finally\n"
   ]
  },
  {
   "cell_type": "markdown",
   "metadata": {},
   "source": [
    "utilizado para ser reproduzido indepentente se der erro ou não"
   ]
  },
  {
   "cell_type": "code",
   "execution_count": 10,
   "metadata": {},
   "outputs": [
    {
     "name": "stdout",
     "output_type": "stream",
     "text": [
      "Documento não encontrado\n",
      "Seu código chegou ao fim, veja o resultado da operação na linha acima\n"
     ]
    }
   ],
   "source": [
    "try: \n",
    "    with open('arquivos/texto', 'r') as documentos:\n",
    "        dcs = documentos.read()\n",
    "except:\n",
    "    print('Documento não encontrado')\n",
    "else:\n",
    "    print(dcs)\n",
    "finally:\n",
    "    print('Seu código chegou ao fim, veja o resultado da operação na linha acima')"
   ]
  }
 ],
 "metadata": {
  "kernelspec": {
   "display_name": "Python 3",
   "language": "python",
   "name": "python3"
  },
  "language_info": {
   "codemirror_mode": {
    "name": "ipython",
    "version": 3
   },
   "file_extension": ".py",
   "mimetype": "text/x-python",
   "name": "python",
   "nbconvert_exporter": "python",
   "pygments_lexer": "ipython3",
   "version": "3.12.0"
  }
 },
 "nbformat": 4,
 "nbformat_minor": 2
}

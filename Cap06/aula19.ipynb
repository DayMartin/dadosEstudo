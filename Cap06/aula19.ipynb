{
 "cells": [
  {
   "cell_type": "markdown",
   "metadata": {},
   "source": [
    "## Expressões regulares "
   ]
  },
  {
   "cell_type": "markdown",
   "metadata": {},
   "source": [
    "Utilizado para manipular strings e fazer validação de entrada de dados, encontrar padroes etc"
   ]
  },
  {
   "cell_type": "code",
   "execution_count": 2,
   "metadata": {},
   "outputs": [],
   "source": [
    "import re"
   ]
  },
  {
   "cell_type": "code",
   "execution_count": 15,
   "metadata": {},
   "outputs": [],
   "source": [
    "texto = 'meu email principal é dinah@doria, e o meu e-mail para contato é o giovana@vitoria'"
   ]
  },
  {
   "cell_type": "code",
   "execution_count": 4,
   "metadata": {},
   "outputs": [],
   "source": [
    "### agora vou utilizar o len(para percorrer o comprimento)\n",
    "### o re.findall(para encontrar no texto o valor de '@' aparece)\n",
    "busca = len(re.findall('@', texto))"
   ]
  },
  {
   "cell_type": "code",
   "execution_count": 5,
   "metadata": {},
   "outputs": [
    {
     "name": "stdout",
     "output_type": "stream",
     "text": [
      "2\n"
     ]
    }
   ],
   "source": [
    "print(busca)"
   ]
  },
  {
   "cell_type": "markdown",
   "metadata": {},
   "source": [
    "##### Mais"
   ]
  },
  {
   "cell_type": "code",
   "execution_count": 21,
   "metadata": {},
   "outputs": [],
   "source": [
    "#### Encontrar qual a palavra após o @\n",
    "#### r é utilizado para que voce utilize o \\ como parte do padrão e não como string\n",
    "resulta = re.findall(r'@(\\w+)', texto)"
   ]
  },
  {
   "cell_type": "code",
   "execution_count": 23,
   "metadata": {},
   "outputs": [
    {
     "name": "stdout",
     "output_type": "stream",
     "text": [
      "['doria', 'vitoria']\n"
     ]
    }
   ],
   "source": [
    "print(resulta)"
   ]
  },
  {
   "cell_type": "code",
   "execution_count": 24,
   "metadata": {},
   "outputs": [],
   "source": [
    "### é considerado 'espaço' então se voce sabe que vai vir um espaço e depois a palavra precisa colocar\n",
    "resulta2 = re.findall(r'meu (\\w+)', texto)"
   ]
  },
  {
   "cell_type": "code",
   "execution_count": 25,
   "metadata": {},
   "outputs": [
    {
     "name": "stdout",
     "output_type": "stream",
     "text": [
      "['email', 'e']\n"
     ]
    }
   ],
   "source": [
    "print(resulta2)"
   ]
  },
  {
   "cell_type": "code",
   "execution_count": 26,
   "metadata": {},
   "outputs": [
    {
     "name": "stdout",
     "output_type": "stream",
     "text": [
      "doria\n"
     ]
    }
   ],
   "source": [
    "### você também pode retornar por indice\n",
    "### retornar somente o primeiro valor que aparecer:\n",
    "print(resulta[0])"
   ]
  },
  {
   "cell_type": "code",
   "execution_count": 28,
   "metadata": {},
   "outputs": [],
   "source": [
    "texto2 = 'Incrivelmente minha vida mudou após conhecer minha princesa giovana, que se encaixa perfeitamente em minha vida'"
   ]
  },
  {
   "cell_type": "code",
   "execution_count": 29,
   "metadata": {},
   "outputs": [],
   "source": [
    "#### Encontrar palavras que contenham \"mente\" no seu sim \\b é utilizado para buscar o fim da palavra\n",
    "\n",
    "leia = re.findall(r'\\w+mente\\b', texto2)"
   ]
  },
  {
   "cell_type": "code",
   "execution_count": 30,
   "metadata": {},
   "outputs": [
    {
     "name": "stdout",
     "output_type": "stream",
     "text": [
      "['Incrivelmente', 'perfeitamente']\n"
     ]
    }
   ],
   "source": [
    "print(leia)"
   ]
  },
  {
   "cell_type": "code",
   "execution_count": 32,
   "metadata": {},
   "outputs": [],
   "source": [
    "conta = len(re.findall('a', texto2))"
   ]
  },
  {
   "cell_type": "code",
   "execution_count": 34,
   "metadata": {},
   "outputs": [
    {
     "name": "stdout",
     "output_type": "stream",
     "text": [
      "A letra \"A\" aparece 12 vezes no texto\n"
     ]
    }
   ],
   "source": [
    "print('A letra \"A\" aparece', conta , 'vezes no texto')"
   ]
  }
 ],
 "metadata": {
  "kernelspec": {
   "display_name": "Python 3",
   "language": "python",
   "name": "python3"
  },
  "language_info": {
   "codemirror_mode": {
    "name": "ipython",
    "version": 3
   },
   "file_extension": ".py",
   "mimetype": "text/x-python",
   "name": "python",
   "nbconvert_exporter": "python",
   "pygments_lexer": "ipython3",
   "version": "3.12.0"
  }
 },
 "nbformat": 4,
 "nbformat_minor": 2
}

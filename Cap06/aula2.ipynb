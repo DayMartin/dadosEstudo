{
 "cells": [
  {
   "cell_type": "markdown",
   "metadata": {},
   "source": [
    "### Sobrescrevendo arquivos com \"w\" de write "
   ]
  },
  {
   "cell_type": "markdown",
   "metadata": {},
   "source": [
    "Write sobrescreve o arquivo, então se houver algo dentro do arquivo ele vai sobrescrever, apagando tudo que há dentro"
   ]
  },
  {
   "cell_type": "code",
   "execution_count": 19,
   "metadata": {},
   "outputs": [],
   "source": [
    "## Abrimos o arquivo com o final \"w\" para write de escrita, apartir do momento que eu inicio este comando\n",
    "## Ele apaga tudo que está no arquivo\n",
    "arquivo = open(\"arquivos/arquivo_de_texto.txt\", \"w\")"
   ]
  },
  {
   "cell_type": "code",
   "execution_count": 20,
   "metadata": {},
   "outputs": [
    {
     "data": {
      "text/plain": [
       "23"
      ]
     },
     "execution_count": 20,
     "metadata": {},
     "output_type": "execute_result"
    }
   ],
   "source": [
    "### Escrevendo algo dentro do arquivo\n",
    "arquivo.write('Estou aprendendo Python')"
   ]
  },
  {
   "cell_type": "code",
   "execution_count": 25,
   "metadata": {},
   "outputs": [],
   "source": [
    "### Após escrever algo dentro é importante fechar o arquivo, porque lá em cima nós o abrimos\n",
    "arquivo.close()"
   ]
  },
  {
   "cell_type": "code",
   "execution_count": 27,
   "metadata": {},
   "outputs": [],
   "source": [
    "## Utilizando \"r\" para abrir o arquivo para leitura\n",
    "arquivo = open(\"arquivos/arquivo_de_texto.txt\", \"r\")"
   ]
  },
  {
   "cell_type": "code",
   "execution_count": 28,
   "metadata": {},
   "outputs": [
    {
     "name": "stdout",
     "output_type": "stream",
     "text": [
      "Estou aprendendo Python\n"
     ]
    }
   ],
   "source": [
    "## Lendo o arquivo\n",
    "print(arquivo.read())"
   ]
  },
  {
   "cell_type": "markdown",
   "metadata": {},
   "source": [
    "### Alterando arquivos com \"a\" de append"
   ]
  },
  {
   "cell_type": "markdown",
   "metadata": {},
   "source": [
    "o \"a\" de append faz uma alteração, então você incluir mais coisas sem apagar o que já exite"
   ]
  },
  {
   "cell_type": "code",
   "execution_count": 40,
   "metadata": {},
   "outputs": [],
   "source": [
    "arquivo = open(\"arquivos/arquivo_de_texto.txt\", 'a')"
   ]
  },
  {
   "cell_type": "code",
   "execution_count": 41,
   "metadata": {},
   "outputs": [
    {
     "data": {
      "text/plain": [
       "69"
      ]
     },
     "execution_count": 41,
     "metadata": {},
     "output_type": "execute_result"
    }
   ],
   "source": [
    "arquivo.write(' \\r Estou acrescentando este texto no meu arquivo, onde ele vai parar?')"
   ]
  },
  {
   "cell_type": "code",
   "execution_count": 42,
   "metadata": {},
   "outputs": [],
   "source": [
    "arquivo.close()"
   ]
  },
  {
   "cell_type": "code",
   "execution_count": 43,
   "metadata": {},
   "outputs": [],
   "source": [
    "arquivo = open(\"arquivos/arquivo_de_texto.txt\", 'r')"
   ]
  },
  {
   "cell_type": "code",
   "execution_count": 44,
   "metadata": {},
   "outputs": [
    {
     "name": "stdout",
     "output_type": "stream",
     "text": [
      "Estou aprendendo Python\n",
      " \n",
      " Estou acrescentando este texto no meu arquivo, onde ele vai parar?\n"
     ]
    }
   ],
   "source": [
    "print(arquivo.read())"
   ]
  }
 ],
 "metadata": {
  "kernelspec": {
   "display_name": "Python 3",
   "language": "python",
   "name": "python3"
  },
  "language_info": {
   "codemirror_mode": {
    "name": "ipython",
    "version": 3
   },
   "file_extension": ".py",
   "mimetype": "text/x-python",
   "name": "python",
   "nbconvert_exporter": "python",
   "pygments_lexer": "ipython3",
   "version": "3.12.0"
  }
 },
 "nbformat": 4,
 "nbformat_minor": 2
}

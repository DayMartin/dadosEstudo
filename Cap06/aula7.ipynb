{
 "cells": [
  {
   "cell_type": "markdown",
   "metadata": {},
   "source": [
    "### Método with"
   ]
  },
  {
   "cell_type": "markdown",
   "metadata": {},
   "source": [
    "Ele abre o arquivo e já o fecha"
   ]
  },
  {
   "cell_type": "code",
   "execution_count": 5,
   "metadata": {},
   "outputs": [
    {
     "name": "stdout",
     "output_type": "stream",
     "text": [
      "Estou aprendendo Python\n",
      " \n",
      " Estou acrescentando este texto no meu arquivo, onde ele vai parar?\n",
      "93\n"
     ]
    }
   ],
   "source": [
    "## com o arquivo aberto em ... vou apelidar de ... e realizar a operação\n",
    "with open(\"arquivos/arquivo_de_texto.txt\", 'r') as arquivinho:\n",
    "    leitura_arquivo = arquivinho.read()\n",
    "    print(leitura_arquivo)\n",
    "    print(len(leitura_arquivo))"
   ]
  },
  {
   "cell_type": "code",
   "execution_count": null,
   "metadata": {},
   "outputs": [],
   "source": []
  }
 ],
 "metadata": {
  "kernelspec": {
   "display_name": "Python 3",
   "language": "python",
   "name": "python3"
  },
  "language_info": {
   "codemirror_mode": {
    "name": "ipython",
    "version": 3
   },
   "file_extension": ".py",
   "mimetype": "text/x-python",
   "name": "python",
   "nbconvert_exporter": "python",
   "pygments_lexer": "ipython3",
   "version": "3.12.0"
  }
 },
 "nbformat": 4,
 "nbformat_minor": 2
}
